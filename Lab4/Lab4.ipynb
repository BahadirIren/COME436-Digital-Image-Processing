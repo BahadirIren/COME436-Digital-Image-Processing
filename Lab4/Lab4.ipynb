{
 "cells": [
  {
   "cell_type": "code",
   "execution_count": null,
   "id": "9cb6a9e0",
   "metadata": {},
   "outputs": [],
   "source": [
    "import cv2 as cv"
   ]
  },
  {
   "cell_type": "code",
   "execution_count": null,
   "id": "b7bcfee9",
   "metadata": {},
   "outputs": [],
   "source": [
    "img_boji = cv.imread(\"images/boji.jpg\")\n",
    "\n",
    "img_boji.shape"
   ]
  },
  {
   "cell_type": "code",
   "execution_count": null,
   "id": "2bc8b89a",
   "metadata": {},
   "outputs": [],
   "source": [
    "# show boji image\n",
    "cv.imshow(\"boji\", img_boji)\n",
    "cv.waitKey(0)\n",
    "cv.destroyAllWindows()\n",
    "cv.waitKey(1)"
   ]
  },
  {
   "cell_type": "code",
   "execution_count": null,
   "id": "81fb4cf4",
   "metadata": {},
   "outputs": [],
   "source": [
    "# resize image \n",
    "\n",
    "dimension = (int((img_boji.shape[1] / 2)), int((img_boji.shape[0] / 2)))\n",
    "\n",
    "resized_img_boji = cv.resize(img_boji, dimension, interpolation = cv.INTER_AREA)\n",
    "# resized_img_boji.shape\n",
    "\n",
    "cv.imshow(\"resized boji\", resized_img_boji)\n",
    "cv.waitKey(0)\n",
    "cv.destroyAllWindows()\n",
    "cv.waitKey(1)"
   ]
  },
  {
   "cell_type": "code",
   "execution_count": null,
   "id": "f56c08ed",
   "metadata": {},
   "outputs": [],
   "source": [
    "# red color\n",
    "# resized_img_boji[200:300,0:100, 0] = 0\n",
    "# resized_img_boji[200:300,0:100, 1] = 0\n",
    "# resized_img_boji[200:300,0:100, 2] = 255\n",
    "\n",
    "# green color\n",
    "# resized_img_boji[200:300,0:100, 0] = 0\n",
    "# resized_img_boji[200:300,0:100, 1] = 255\n",
    "# resized_img_boji[200:300,0:100, 2] = 0\n",
    "\n",
    "# blue color\n",
    "# resized_img_boji[200:300,0:100, 0] = 255\n",
    "# resized_img_boji[200:300,0:100, 1] = 0\n",
    "# resized_img_boji[200:300,0:100, 2] = 0\n",
    "\n",
    "# white color\n",
    "# resized_img_boji[200:300,0:100, 0] = 255\n",
    "# resized_img_boji[200:300,0:100, 1] = 255\n",
    "# resized_img_boji[200:300,0:100, 2] = 255"
   ]
  },
  {
   "cell_type": "code",
   "execution_count": null,
   "id": "5acc0450",
   "metadata": {},
   "outputs": [],
   "source": [
    "# adding squares to the corners of the image\n",
    "\n",
    "height = int(resized_img_boji.shape[0])\n",
    "width = int(resized_img_boji.shape[1])\n",
    "\n",
    "# top left corner\n",
    "resized_img_boji[0:50, 0:50, 0] = 255\n",
    "resized_img_boji[0:50, 0:50, 1] = 255\n",
    "resized_img_boji[0:50, 0:50, 2] = 255\n",
    "\n",
    "# top right corner\n",
    "resized_img_boji[ 0:50 , (width -50): width, 0] = 255\n",
    "resized_img_boji[ 0:50 ,(width -50): width, 1] = 255\n",
    "resized_img_boji[ 0:50 ,(width -50): width, 2] = 255\n",
    "\n",
    "# bottom left corner\n",
    "resized_img_boji[ (height - 50):height ,0:50, 0] = 255\n",
    "resized_img_boji[ (height - 50):height ,0:50, 1] = 255\n",
    "resized_img_boji[ (height - 50):height ,0:50, 2] = 255\n",
    "\n",
    "\n",
    "# bottom right corner\n",
    "resized_img_boji[ (height - 50):height , (width -50):width, 0] = 255\n",
    "resized_img_boji[ (height - 50):height ,(width -50): width, 1] = 255\n",
    "resized_img_boji[ (height - 50):height ,(width -50): width, 2] = 255\n",
    "\n",
    "cv.imshow(\"square\", resized_img_boji)\n",
    "cv.waitKey(0)\n",
    "cv.destroyAllWindows()\n",
    "cv.waitKey(1)"
   ]
  },
  {
   "cell_type": "code",
   "execution_count": null,
   "id": "f819bfed",
   "metadata": {},
   "outputs": [],
   "source": [
    "# gray colored image\n",
    "\n",
    "grayscale = cv.cvtColor(resized_img_boji, cv.COLOR_BGR2GRAY)\n",
    "\n",
    "cv.imshow(\"gray image\", grayscale)\n",
    "cv.waitKey(0)\n",
    "cv.destroyAllWindows()\n",
    "cv.waitKey(1)"
   ]
  },
  {
   "cell_type": "code",
   "execution_count": null,
   "id": "b322d90d",
   "metadata": {},
   "outputs": [],
   "source": [
    "conda install matplotlib"
   ]
  },
  {
   "cell_type": "code",
   "execution_count": null,
   "id": "e9b43391",
   "metadata": {},
   "outputs": [],
   "source": [
    "import matplotlib as mpl\n",
    "import matplotlib.pyplot as plt\n",
    "import numpy as np"
   ]
  },
  {
   "cell_type": "code",
   "execution_count": null,
   "id": "6ab51309",
   "metadata": {},
   "outputs": [],
   "source": [
    "fig, axs = plt.subplots()\n",
    "fig.suptitle(\"Matplotlib test\", fontsize =16)\n",
    "axs.imshow(cv.cvtColor(resized_img_boji, cv.COLOR_BGR2RGB))"
   ]
  },
  {
   "cell_type": "code",
   "execution_count": null,
   "id": "d7397e61",
   "metadata": {},
   "outputs": [],
   "source": [
    "fig, axs = plt.subplots(1,2)\n",
    "\n",
    "axs[0].imshow(cv.cvtColor(resized_img_boji, cv.COLOR_BGR2RGB))\n",
    "axs[1].imshow(cv.cvtColor(grayscale, cv.COLOR_BGR2RGB))"
   ]
  },
  {
   "cell_type": "code",
   "execution_count": null,
   "id": "571d681f",
   "metadata": {},
   "outputs": [],
   "source": [
    "fig, axs = plt.subplots(2,2)\n",
    "\n",
    "axs[0,0].imshow(cv.cvtColor(resized_img_boji, cv.COLOR_BGR2RGB))\n",
    "axs[0,1].imshow(cv.cvtColor(gray1, cv.COLOR_BGR2RGB))\n",
    "axs[1,0].imshow(cv.cvtColor(gray2, cv.COLOR_BGR2RGB))\n",
    "axs[1,1].imshow(cv.cvtColor(gray3, cv.COLOR_BGR2RGB))"
   ]
  },
  {
   "cell_type": "code",
   "execution_count": null,
   "id": "251e543c",
   "metadata": {},
   "outputs": [],
   "source": [
    "fig, axs = plt.subplots(3,2)\n",
    "\n",
    "gray1 = resized_img_boji[:,:,0]\n",
    "gray2 = resized_img_boji[:,:,1]\n",
    "gray3 = resized_img_boji[:,:,2]\n",
    "\n",
    "(r,g,b) = cv.split(resized_img_boji)\n",
    "gray4 = 0.2989 * r + 0.5870 * g + 0.1140 * b\n",
    "gray5 = 0.33 * r + 0.33 * g + 0.33 * b\n",
    "\n",
    "axs[0,0].imshow(cv.cvtColor(resized_img_boji, cv.COLOR_BGR2RGB))\n",
    "axs[0,1].imshow(cv.cvtColor(gray1, cv.COLOR_BGR2RGB))\n",
    "axs[1,0].imshow(cv.cvtColor(gray2, cv.COLOR_BGR2RGB))\n",
    "axs[1,1].imshow(cv.cvtColor(gray3, cv.COLOR_BGR2RGB))\n",
    "axs[2,0].imshow(cv.cvtColor(np.uint8(gray4), cv.COLOR_BGR2RGB)) # we should convert to uint8\n",
    "axs[2,1].imshow(cv.cvtColor(np.uint8(gray5), cv.COLOR_BGR2RGB)) # we should convert to uint8"
   ]
  },
  {
   "cell_type": "code",
   "execution_count": null,
   "id": "c42f5e55",
   "metadata": {},
   "outputs": [],
   "source": [
    "# resimleri ic ice gecirme\n",
    "img1 = cv.imread(\"images/girl.png\")\n",
    "img2 = cv.imread(\"images/monarch.png\")\n",
    "\n",
    "dst = cv.addWeighted(img1, 0.3, img2, 0.7,100) \n",
    "\n",
    "cv.imshow(\"dst\", dst)\n",
    "cv.waitKey(0)\n",
    "cv.destroyAllWindows()\n",
    "cv.waitKey(1)"
   ]
  },
  {
   "cell_type": "code",
   "execution_count": null,
   "id": "b86cf030",
   "metadata": {},
   "outputs": [],
   "source": [
    "fig, axs = plt.subplots(2,2)\n",
    "\n",
    "img1 = cv.imread(\"images/girl.png\")\n",
    "img2 = cv.imread(\"images/monarch.png\")\n",
    "\n",
    "dst1 = cv.addWeighted(img1, 0.3, img2, 0.7, 100) # take 0.3 from img1 and take 0.7 from img2\n",
    "dst2 = cv.addWeighted(img1, 0.7, img2, 0.3, 0)\n",
    "\n",
    "axs[0,0].imshow(cv.cvtColor(img1, cv.COLOR_BGR2RGB))\n",
    "axs[0,1].imshow(cv.cvtColor(img2, cv.COLOR_BGR2RGB))\n",
    "axs[1,0].imshow(cv.cvtColor(dst1, cv.COLOR_BGR2RGB))\n",
    "axs[1,1].imshow(cv.cvtColor(dst2, cv.COLOR_BGR2RGB))"
   ]
  },
  {
   "cell_type": "code",
   "execution_count": null,
   "id": "37e644bf",
   "metadata": {},
   "outputs": [],
   "source": []
  }
 ],
 "metadata": {
  "kernelspec": {
   "display_name": "Python 3 (ipykernel)",
   "language": "python",
   "name": "python3"
  },
  "language_info": {
   "codemirror_mode": {
    "name": "ipython",
    "version": 3
   },
   "file_extension": ".py",
   "mimetype": "text/x-python",
   "name": "python",
   "nbconvert_exporter": "python",
   "pygments_lexer": "ipython3",
   "version": "3.9.7"
  }
 },
 "nbformat": 4,
 "nbformat_minor": 5
}
