{
 "cells": [
  {
   "cell_type": "code",
   "execution_count": 2,
   "id": "d4fdb070",
   "metadata": {},
   "outputs": [],
   "source": [
    "import numpy as np"
   ]
  },
  {
   "cell_type": "code",
   "execution_count": 3,
   "id": "a6105a57",
   "metadata": {},
   "outputs": [
    {
     "data": {
      "text/plain": [
       "array([[0., 0., 0., 0.],\n",
       "       [0., 0., 0., 0.],\n",
       "       [0., 0., 0., 0.]])"
      ]
     },
     "execution_count": 3,
     "metadata": {},
     "output_type": "execute_result"
    }
   ],
   "source": [
    "np.zeros((3,4))"
   ]
  },
  {
   "cell_type": "code",
   "execution_count": 4,
   "id": "e8308dee",
   "metadata": {},
   "outputs": [
    {
     "data": {
      "text/plain": [
       "array([[[1, 1, 1, 1],\n",
       "        [1, 1, 1, 1],\n",
       "        [1, 1, 1, 1]],\n",
       "\n",
       "       [[1, 1, 1, 1],\n",
       "        [1, 1, 1, 1],\n",
       "        [1, 1, 1, 1]]], dtype=int16)"
      ]
     },
     "execution_count": 4,
     "metadata": {},
     "output_type": "execute_result"
    }
   ],
   "source": [
    "np.ones((2, 3, 4), dtype = np.int16)"
   ]
  },
  {
   "cell_type": "code",
   "execution_count": 6,
   "id": "df03fa03",
   "metadata": {},
   "outputs": [
    {
     "data": {
      "text/plain": [
       "array([[[1., 1., 1., 1.],\n",
       "        [1., 1., 1., 1.],\n",
       "        [1., 1., 1., 1.]],\n",
       "\n",
       "       [[1., 1., 1., 1.],\n",
       "        [1., 1., 1., 1.],\n",
       "        [1., 1., 1., 1.]]])"
      ]
     },
     "execution_count": 6,
     "metadata": {},
     "output_type": "execute_result"
    }
   ],
   "source": [
    "np.ones((2, 3, 4), dtype = np.float64)"
   ]
  },
  {
   "cell_type": "code",
   "execution_count": 9,
   "id": "df89122a",
   "metadata": {},
   "outputs": [
    {
     "data": {
      "text/plain": [
       "8"
      ]
     },
     "execution_count": 9,
     "metadata": {},
     "output_type": "execute_result"
    }
   ],
   "source": [
    "x = np.ones((2, 3, 4), dtype = np.float64)\n",
    "\n",
    "x.itemsize"
   ]
  },
  {
   "cell_type": "code",
   "execution_count": 10,
   "id": "af63b9ac",
   "metadata": {},
   "outputs": [
    {
     "data": {
      "text/plain": [
       "2"
      ]
     },
     "execution_count": 10,
     "metadata": {},
     "output_type": "execute_result"
    }
   ],
   "source": [
    "y = np.ones((2, 3, 4), dtype = np.int16)\n",
    "\n",
    "y.itemsize"
   ]
  },
  {
   "cell_type": "code",
   "execution_count": 15,
   "id": "77d534bb",
   "metadata": {},
   "outputs": [
    {
     "data": {
      "text/plain": [
       "array([[ 0,  1,  2],\n",
       "       [ 3,  4,  5],\n",
       "       [ 6,  7,  8],\n",
       "       [ 9, 10, 11],\n",
       "       [12, 13, 14]])"
      ]
     },
     "execution_count": 15,
     "metadata": {},
     "output_type": "execute_result"
    }
   ],
   "source": [
    "np.arange(15).reshape(5,3)"
   ]
  },
  {
   "cell_type": "code",
   "execution_count": 16,
   "id": "723412e5",
   "metadata": {},
   "outputs": [
    {
     "data": {
      "text/plain": [
       "array([0.  , 0.25, 0.5 , 0.75, 1.  , 1.25, 1.5 , 1.75, 2.  ])"
      ]
     },
     "execution_count": 16,
     "metadata": {},
     "output_type": "execute_result"
    }
   ],
   "source": [
    "np.linspace(0, 2, 9) # starting, ending, element number "
   ]
  },
  {
   "cell_type": "code",
   "execution_count": 17,
   "id": "42fdf137",
   "metadata": {},
   "outputs": [
    {
     "data": {
      "text/plain": [
       "array([[1, 1],\n",
       "       [0, 1]])"
      ]
     },
     "execution_count": 17,
     "metadata": {},
     "output_type": "execute_result"
    }
   ],
   "source": [
    "A = np.array([[1,1],[0,1]])\n",
    "A"
   ]
  },
  {
   "cell_type": "code",
   "execution_count": 18,
   "id": "993b143a",
   "metadata": {},
   "outputs": [
    {
     "data": {
      "text/plain": [
       "array([[2, 0],\n",
       "       [3, 4]])"
      ]
     },
     "execution_count": 18,
     "metadata": {},
     "output_type": "execute_result"
    }
   ],
   "source": [
    "B = np.array([[2,0],[3,4]])\n",
    "B"
   ]
  },
  {
   "cell_type": "code",
   "execution_count": 19,
   "id": "19d72cd7",
   "metadata": {},
   "outputs": [
    {
     "data": {
      "text/plain": [
       "array([[2, 0],\n",
       "       [0, 4]])"
      ]
     },
     "execution_count": 19,
     "metadata": {},
     "output_type": "execute_result"
    }
   ],
   "source": [
    "# element wise multiplication\n",
    "A*B "
   ]
  },
  {
   "cell_type": "code",
   "execution_count": 21,
   "id": "52bc13d8",
   "metadata": {},
   "outputs": [
    {
     "data": {
      "text/plain": [
       "array([[5, 4],\n",
       "       [3, 4]])"
      ]
     },
     "execution_count": 21,
     "metadata": {},
     "output_type": "execute_result"
    }
   ],
   "source": [
    "# matrix multiplication\n",
    "A@B\n",
    "A.dot(B)"
   ]
  },
  {
   "cell_type": "code",
   "execution_count": 22,
   "id": "5816ef8d",
   "metadata": {},
   "outputs": [
    {
     "data": {
      "text/plain": [
       "array([[3, 1],\n",
       "       [3, 5]])"
      ]
     },
     "execution_count": 22,
     "metadata": {},
     "output_type": "execute_result"
    }
   ],
   "source": [
    "# matrix addition\n",
    "C = A + B\n",
    "C"
   ]
  },
  {
   "cell_type": "code",
   "execution_count": 25,
   "id": "01f7442e",
   "metadata": {},
   "outputs": [
    {
     "data": {
      "text/plain": [
       "array([[0.29754584, 0.80957221, 0.91056837, 0.27611579],\n",
       "       [0.38452282, 0.10479543, 0.95465046, 0.70818055],\n",
       "       [0.75584115, 0.4458542 , 0.96624044, 0.44058877]])"
      ]
     },
     "execution_count": 25,
     "metadata": {},
     "output_type": "execute_result"
    }
   ],
   "source": [
    "# random array with size 3x4\n",
    "D = np.random.rand(3,4)\n",
    "D"
   ]
  },
  {
   "cell_type": "code",
   "execution_count": 26,
   "id": "fdd1df70",
   "metadata": {},
   "outputs": [
    {
     "data": {
      "text/plain": [
       "(3, 4)"
      ]
     },
     "execution_count": 26,
     "metadata": {},
     "output_type": "execute_result"
    }
   ],
   "source": [
    "D.shape"
   ]
  },
  {
   "cell_type": "code",
   "execution_count": 5,
   "id": "6c1beac5",
   "metadata": {},
   "outputs": [],
   "source": [
    "import cv2 as cv"
   ]
  },
  {
   "cell_type": "code",
   "execution_count": 4,
   "id": "0216c27a",
   "metadata": {},
   "outputs": [
    {
     "data": {
      "text/plain": [
       "(675, 1200, 3)"
      ]
     },
     "execution_count": 4,
     "metadata": {},
     "output_type": "execute_result"
    }
   ],
   "source": [
    "image = cv.imread('../Homework1/images/image1.jpg', 1)\n",
    "image.shape"
   ]
  },
  {
   "cell_type": "code",
   "execution_count": 7,
   "id": "f85dab47",
   "metadata": {},
   "outputs": [
    {
     "data": {
      "text/plain": [
       "(675, 1200)"
      ]
     },
     "execution_count": 7,
     "metadata": {},
     "output_type": "execute_result"
    }
   ],
   "source": [
    "image_gray = cv.imread('../Homework1/images/image1.jpg', 0)\n",
    "image_gray.shape"
   ]
  },
  {
   "cell_type": "code",
   "execution_count": 5,
   "id": "c9eb54ee",
   "metadata": {},
   "outputs": [
    {
     "data": {
      "text/plain": [
       "-1"
      ]
     },
     "execution_count": 5,
     "metadata": {},
     "output_type": "execute_result"
    }
   ],
   "source": [
    "cv.imshow('image gray', image)\n",
    "\n",
    "cv.waitKey(0)\n",
    "cv.destroyAllWindows()\n",
    "cv.waitKey(1)"
   ]
  },
  {
   "cell_type": "code",
   "execution_count": 8,
   "id": "bceecb16",
   "metadata": {},
   "outputs": [
    {
     "data": {
      "text/plain": [
       "-1"
      ]
     },
     "execution_count": 8,
     "metadata": {},
     "output_type": "execute_result"
    }
   ],
   "source": [
    "cv.imshow('image gray', image_gray)\n",
    "\n",
    "cv.waitKey(0)\n",
    "cv.destroyAllWindows()\n",
    "cv.waitKey(1)"
   ]
  },
  {
   "cell_type": "code",
   "execution_count": 59,
   "id": "94669d48",
   "metadata": {},
   "outputs": [],
   "source": [
    "A1 = np.zeros((300, 300,3), dtype = np.int16)"
   ]
  },
  {
   "cell_type": "code",
   "execution_count": 60,
   "id": "663e1a37",
   "metadata": {},
   "outputs": [],
   "source": [
    "A1[1:100,:,0]= 255\n"
   ]
  },
  {
   "cell_type": "code",
   "execution_count": 61,
   "id": "dac53144",
   "metadata": {},
   "outputs": [
    {
     "data": {
      "text/plain": [
       "-1"
      ]
     },
     "execution_count": 61,
     "metadata": {},
     "output_type": "execute_result"
    }
   ],
   "source": [
    "cv.imshow('image', A1)\n",
    "\n",
    "cv.waitKey(0)\n",
    "cv.destroyAllWindows()\n",
    "cv.waitKey(1)"
   ]
  },
  {
   "cell_type": "code",
   "execution_count": null,
   "id": "0c09b80d",
   "metadata": {},
   "outputs": [],
   "source": []
  },
  {
   "cell_type": "code",
   "execution_count": 27,
   "id": "e2d0bebd",
   "metadata": {},
   "outputs": [],
   "source": [
    "A_image = [0*A1, 127*A1]"
   ]
  },
  {
   "cell_type": "code",
   "execution_count": 48,
   "id": "3bf0feb4",
   "metadata": {},
   "outputs": [],
   "source": [
    "gray_level = 127"
   ]
  },
  {
   "cell_type": "code",
   "execution_count": 3,
   "id": "b26f308f",
   "metadata": {},
   "outputs": [],
   "source": [
    "gray_image = 0* np.ones((400,800,3), dtype = np.uint8)"
   ]
  },
  {
   "cell_type": "code",
   "execution_count": 51,
   "id": "a94fa652",
   "metadata": {},
   "outputs": [],
   "source": [
    "gray_image1 = 0* np.ones((400,500,3), dtype = np.uint8)"
   ]
  },
  {
   "cell_type": "code",
   "execution_count": 53,
   "id": "5b268c6a",
   "metadata": {},
   "outputs": [],
   "source": [
    "for i in range(0,410,200):\n",
    "    gray_image[:,i:i+50,0] = 255\n",
    "    gray_image[:,i+50:i+100,1] = 255\n",
    "    gray_image[:,i+150:i+200,2] = 255"
   ]
  },
  {
   "cell_type": "code",
   "execution_count": 6,
   "id": "970ed09c",
   "metadata": {},
   "outputs": [
    {
     "data": {
      "text/plain": [
       "-1"
      ]
     },
     "execution_count": 6,
     "metadata": {},
     "output_type": "execute_result"
    }
   ],
   "source": [
    "cv.imshow('image gray', gray_image)\n",
    "\n",
    "cv.waitKey(0)\n",
    "cv.destroyAllWindows()\n",
    "cv.waitKey(1)"
   ]
  },
  {
   "cell_type": "code",
   "execution_count": 55,
   "id": "8b537ae2",
   "metadata": {},
   "outputs": [
    {
     "data": {
      "text/plain": [
       "-1"
      ]
     },
     "execution_count": 55,
     "metadata": {},
     "output_type": "execute_result"
    }
   ],
   "source": [
    "n_im = gray_image[:,:,0]\n",
    "\n",
    "cv.imshow('image gray', n_im)\n",
    "\n",
    "cv.waitKey(0)\n",
    "cv.destroyAllWindows()\n",
    "cv.waitKey(1)"
   ]
  },
  {
   "cell_type": "code",
   "execution_count": 58,
   "id": "e489139c",
   "metadata": {},
   "outputs": [
    {
     "data": {
      "text/plain": [
       "-1"
      ]
     },
     "execution_count": 58,
     "metadata": {},
     "output_type": "execute_result"
    }
   ],
   "source": [
    "n_im1 = image[:,:,0]\n",
    "\n",
    "cv.imshow('image gray', n_im1)\n",
    "\n",
    "cv.waitKey(0)\n",
    "cv.destroyAllWindows()\n",
    "cv.waitKey(1)"
   ]
  },
  {
   "cell_type": "code",
   "execution_count": 67,
   "id": "f087588f",
   "metadata": {},
   "outputs": [
    {
     "data": {
      "text/plain": [
       "-1"
      ]
     },
     "execution_count": 67,
     "metadata": {},
     "output_type": "execute_result"
    }
   ],
   "source": [
    "im_second = cv.imread('../Homework1/images/image2.jpg')\n",
    "cv.imshow('Second Image', im_second)\n",
    "\n",
    "cv.waitKey(0)\n",
    "cv.destroyAllWindows()\n",
    "cv.waitKey(1)"
   ]
  },
  {
   "cell_type": "code",
   "execution_count": 68,
   "id": "f51d4ab5",
   "metadata": {},
   "outputs": [
    {
     "data": {
      "text/plain": [
       "-1"
      ]
     },
     "execution_count": 68,
     "metadata": {},
     "output_type": "execute_result"
    }
   ],
   "source": [
    "# drowing line\n",
    "cv.line(im_second, (0,0), (100,251), (255,0,0), 30) # starting point, ending point, color, thickness\n",
    "cv.line(im_second, (0,512), (251,251), (0,0,255), 30)\n",
    "cv.imshow('second image', im_second)\n",
    "\n",
    "cv.waitKey(0)\n",
    "cv.destroyAllWindows()\n",
    "cv.waitKey(1)"
   ]
  },
  {
   "cell_type": "code",
   "execution_count": 72,
   "id": "7ca2c07d",
   "metadata": {},
   "outputs": [
    {
     "name": "stdout",
     "output_type": "stream",
     "text": [
      "successfully written\n"
     ]
    }
   ],
   "source": [
    "# write to the local storage\n",
    "\n",
    "is_written = cv.imwrite('new_image_second.jpg',im_second)\n",
    "\n",
    "if is_written:\n",
    "    print('successfully written')\n",
    "else:\n",
    "    print('failed!')"
   ]
  },
  {
   "cell_type": "code",
   "execution_count": 80,
   "id": "d36f9f82",
   "metadata": {},
   "outputs": [
    {
     "data": {
      "text/plain": [
       "-1"
      ]
     },
     "execution_count": 80,
     "metadata": {},
     "output_type": "execute_result"
    }
   ],
   "source": [
    "height = int(im_second.shape[0] * 50 / 100)\n",
    "width = int(im_second.shape[1] * 50 / 100)\n",
    "\n",
    "dimension = (width, height)\n",
    "\n",
    "resized_image = cv.resize(im_second, dimension, interpolation = cv.INTER_AREA)\n",
    "\n",
    "resized_image.shape\n",
    "\n",
    "cv.imshow('Scaled Image', resized_image)\n",
    "\n",
    "cv.waitKey(0)\n",
    "cv.destroyAllWindows()\n",
    "cv.waitKey(1)"
   ]
  },
  {
   "cell_type": "code",
   "execution_count": null,
   "id": "f7290075",
   "metadata": {},
   "outputs": [],
   "source": []
  }
 ],
 "metadata": {
  "kernelspec": {
   "display_name": "Python 3 (ipykernel)",
   "language": "python",
   "name": "python3"
  },
  "language_info": {
   "codemirror_mode": {
    "name": "ipython",
    "version": 3
   },
   "file_extension": ".py",
   "mimetype": "text/x-python",
   "name": "python",
   "nbconvert_exporter": "python",
   "pygments_lexer": "ipython3",
   "version": "3.9.11"
  }
 },
 "nbformat": 4,
 "nbformat_minor": 5
}
