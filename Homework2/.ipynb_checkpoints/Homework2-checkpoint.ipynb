{
 "cells": [
  {
   "cell_type": "code",
   "execution_count": null,
   "id": "89db01ee",
   "metadata": {},
   "outputs": [],
   "source": [
    "'''\n",
    "• read image “tulips.jpg”\n",
    "• change its background to blue, black, green, red and record all of\n",
    "them as new images\n",
    "• using matplotlib display original image and four images that have\n",
    "been generated\n",
    "\n",
    "'''"
   ]
  },
  {
   "cell_type": "code",
   "execution_count": 1,
   "id": "835d2a8b",
   "metadata": {},
   "outputs": [],
   "source": [
    "import cv2 as cv\n",
    "import numpy as np\n",
    "import matplotlib.pyplot as plt\n",
    "import matplotlib as mpl"
   ]
  },
  {
   "cell_type": "code",
   "execution_count": null,
   "id": "66c36888",
   "metadata": {},
   "outputs": [],
   "source": [
    "def write_images():\n",
    "    cv.imwrite(\"images/blue_background_image.png\", blue_background_image)\n",
    "    cv.imwrite(\"images/black_background_image.png\", black_background_image)\n",
    "    cv.imwrite(\"images/green_background_image.png\", green_background_image)\n",
    "    cv.imwrite(\"images/red_background_image.png\", red_background_image)\n",
    "    \n",
    "def plot_images():\n",
    "    fig, axs = plt.subplots(1, len(images))\n",
    "    \n",
    "    for i in range(0, len(images)):\n",
    "        axs[i].imshow(cv.cvtColor(images[i], cv.COLOR_BGR2RGB))\n",
    "    \n",
    "def set_blue(i, j, image):\n",
    "    image[i, j, 0] = 255\n",
    "    image[i, j, 1] = 0\n",
    "    image[i, j, 2] = 0\n",
    "    \n",
    "def set_black(i, j, image):\n",
    "    image[i, j, 0] = 0\n",
    "    image[i, j, 1] = 0\n",
    "    image[i, j, 2] = 0\n",
    "    \n",
    "def set_green(i, j, image):\n",
    "    image[i, j, 0] = 0\n",
    "    image[i, j, 1] = 255\n",
    "    image[i, j, 2] = 0\n",
    "    \n",
    "def set_red(i, j, image):\n",
    "    image[i, j, 0] = 0\n",
    "    image[i, j, 1] = 0\n",
    "    image[i, j, 2] = 255\n",
    "\n",
    "original_image = cv.imread(\"images/tulips.jpg\", 1)\n",
    "blue_background_image = cv.imread(\"images/tulips.jpg\", 1)\n",
    "black_background_image = cv.imread(\"images/tulips.jpg\", 1)\n",
    "green_background_image = cv.imread(\"images/tulips.jpg\", 1)\n",
    "red_background_image = cv.imread(\"images/tulips.jpg\", 1)\n",
    "\n",
    "images = [original_image, \n",
    "          blue_background_image, \n",
    "          black_background_image, \n",
    "          green_background_image, \n",
    "          red_background_image]\n",
    "\n",
    "height = original_image.shape[0]\n",
    "width = original_image.shape[1]\n",
    "\n",
    "for i in range(0, height):\n",
    "    for j in range(0, width):\n",
    "        \n",
    "        if original_image[i, j, 0] in range(252, 256):\n",
    "            if original_image[i, j, 1] in range(252, 256):\n",
    "                if original_image[i, j, 2] in range(252, 256):\n",
    "                    \n",
    "                    set_blue(i, j, blue_background_image)\n",
    "                    set_black(i, j, black_background_image)\n",
    "                    set_green(i, j, green_background_image)\n",
    "                    set_red(i, j, red_background_image)\n",
    "\n",
    "                    \n",
    "write_images()\n",
    "plot_images()"
   ]
  },
  {
   "cell_type": "code",
   "execution_count": 3,
   "id": "15138700",
   "metadata": {},
   "outputs": [
    {
     "data": {
      "text/plain": [
       "-1"
      ]
     },
     "execution_count": 3,
     "metadata": {},
     "output_type": "execute_result"
    }
   ],
   "source": [
    "# 2\n",
    "image = np.zeros((400, 400, 3), dtype = np.uint8)\n",
    "\n",
    "red_radius = 150\n",
    "blue_radius = 140\n",
    "thickness = -1\n",
    "center_coordinates = (200, 200)\n",
    "red_color = (0, 0, 255)\n",
    "blue_color = (255, 0, 0)\n",
    "\n",
    "image = cv.circle(image, center_coordinates, red_radius, red_color, thickness)\n",
    "image = cv.circle(image, center_coordinates, blue_radius, blue_color, thickness)\n",
    "\n",
    "cv.imshow(\"Circle with opencv\", image)\n",
    "cv.waitKey(0)\n",
    "cv.destroyAllWindows()\n",
    "cv.waitKey(1)"
   ]
  },
  {
   "cell_type": "code",
   "execution_count": 4,
   "id": "2a66dfaa",
   "metadata": {},
   "outputs": [
    {
     "data": {
      "text/plain": [
       "-1"
      ]
     },
     "execution_count": 4,
     "metadata": {},
     "output_type": "execute_result"
    }
   ],
   "source": [
    "# 3\n",
    "import math\n",
    "\n",
    "def calculate_distance(a, b):\n",
    "    x1, y1 = a\n",
    "    x2, y2 = b\n",
    "    return math.sqrt(math.pow((x1 - x2), 2) + math.pow((y1 - y2), 2))\n",
    "                     \n",
    "                     \n",
    "image = np.zeros((400, 400, 3), dtype = np.uint8)\n",
    "\n",
    "red_radius = 150\n",
    "blue_radius = 140\n",
    "\n",
    "center_coordinates = (200, 200)\n",
    "\n",
    "for i in range(0, 400):\n",
    "    for j in range(0, 400):\n",
    "                     \n",
    "        distance = calculate_distance((i, j), center_coordinates)\n",
    "        if distance <= red_radius:\n",
    "            # draw red circle\n",
    "            image[i, j, 0] = 0\n",
    "            image[i, j, 1] = 0\n",
    "            image[i, j, 2] = 255\n",
    "          \n",
    "        if distance <= blue_radius:\n",
    "            # draw blue circle\n",
    "            image[i, j, 0] = 255\n",
    "            image[i, j, 1] = 0\n",
    "            image[i, j, 2] = 0\n",
    "            \n",
    "cv.imshow(\"Circle without opencv\", image)\n",
    "cv.waitKey(0)\n",
    "cv.destroyAllWindows()\n",
    "cv.waitKey(1)"
   ]
  },
  {
   "cell_type": "code",
   "execution_count": null,
   "id": "8fdcb2fe",
   "metadata": {},
   "outputs": [],
   "source": []
  }
 ],
 "metadata": {
  "kernelspec": {
   "display_name": "Python 3 (ipykernel)",
   "language": "python",
   "name": "python3"
  },
  "language_info": {
   "codemirror_mode": {
    "name": "ipython",
    "version": 3
   },
   "file_extension": ".py",
   "mimetype": "text/x-python",
   "name": "python",
   "nbconvert_exporter": "python",
   "pygments_lexer": "ipython3",
   "version": "3.9.11"
  }
 },
 "nbformat": 4,
 "nbformat_minor": 5
}
