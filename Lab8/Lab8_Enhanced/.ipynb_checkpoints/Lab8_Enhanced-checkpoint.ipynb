{
 "cells": [
  {
   "cell_type": "code",
   "execution_count": null,
   "id": "9aa524a9",
   "metadata": {},
   "outputs": [],
   "source": [
    "conda install scikit-image"
   ]
  },
  {
   "cell_type": "code",
   "execution_count": null,
   "id": "6a88dcec",
   "metadata": {},
   "outputs": [],
   "source": [
    "import numpy as np\n",
    "import matplotlib.pyplot as plt\n",
    "from skimage.io import imread, imshow\n",
    "from skimage.color import rgb2hsv, rgb2gray, rgb2yuv \n",
    "from skimage import color, exposure, transform\n",
    "from skimage.exposure import equalize_hist"
   ]
  },
  {
   "cell_type": "code",
   "execution_count": null,
   "id": "4a71fadc",
   "metadata": {},
   "outputs": [],
   "source": [
    "dark_image = imread('images/against_the_light.png')"
   ]
  },
  {
   "cell_type": "code",
   "execution_count": null,
   "id": "da5e90b0",
   "metadata": {},
   "outputs": [],
   "source": [
    "dark_image_grey = rgb2gray(dark_image) \n",
    "plt.figure(num=None, figsize=(8, 6), dpi=80) \n",
    "plt.imshow(dark_image_grey, cmap='gray')"
   ]
  },
  {
   "cell_type": "code",
   "execution_count": null,
   "id": "5ef56968",
   "metadata": {},
   "outputs": [],
   "source": [
    "dark_image_grey_fourier = np.fft.fftshift(np.fft.fft2(dark_image_grey)) \n",
    "plt.figure(num=None, figsize=(8, 6), dpi=80) \n",
    "plt.imshow(np.log(abs(dark_image_grey_fourier)), cmap='gray')"
   ]
  },
  {
   "cell_type": "code",
   "execution_count": null,
   "id": "6c2e4b5a",
   "metadata": {},
   "outputs": [],
   "source": [
    "def fourier_masker_ver(image, i): \n",
    "    f_size = 15\n",
    "    \n",
    "    dark_image_grey_fourier = np.fft.fftshift(np.fft.fft2(rgb2gray(image))) \n",
    "    dark_image_grey_fourier[:225, 235:240] = i \n",
    "    dark_image_grey_fourier[-225:,235:240] = i\n",
    "    \n",
    "    fig, ax = plt.subplots(1,3,figsize=(15,15)) \n",
    "    \n",
    "    ax[0].imshow(np.log(abs(dark_image_grey_fourier)), cmap='gray') \n",
    "    ax[0].set_title('Masked Fourier', fontsize = f_size) \n",
    "    \n",
    "    ax[1].imshow(rgb2gray(image), cmap = 'gray')\n",
    "    ax[1].set_title('Greyscale Image', fontsize = f_size)\n",
    "    \n",
    "    ax[2].imshow(abs(np.fft.ifft2(dark_image_grey_fourier)), cmap='gray') \n",
    "    ax[2].set_title('Transformed Greyscale Image', fontsize = f_size)\n",
    "    \n",
    "fourier_masker_ver(dark_image, 1)"
   ]
  },
  {
   "cell_type": "code",
   "execution_count": null,
   "id": "df2460f1",
   "metadata": {},
   "outputs": [],
   "source": [
    "arr = [10, 20, 30, 40, 50] \n",
    "print (arr[-2:])"
   ]
  },
  {
   "cell_type": "code",
   "execution_count": null,
   "id": "f354bbd3",
   "metadata": {},
   "outputs": [],
   "source": [
    "def fourier_masker_hor(image, i):\n",
    "    f_size = 15\n",
    "    \n",
    "    dark_image_grey_fourier = np.fft.fftshift(np.fft.fft2(rgb2gray(image))) \n",
    "    dark_image_grey_fourier[235:240, :230] = i\n",
    "    dark_image_grey_fourier[235:240,-230:] = i\n",
    "    \n",
    "    fig, ax = plt.subplots(1,3,figsize=(15,15)) \n",
    "    \n",
    "    ax[0].imshow(np.log(abs(dark_image_grey_fourier)), cmap='gray') \n",
    "    ax[0].set_title('Masked Fourier', fontsize = f_size) \n",
    "    \n",
    "    ax[1].imshow(rgb2gray(image), cmap = 'gray')\n",
    "    ax[1].set_title('Greyscale Image', fontsize = f_size)\n",
    "    \n",
    "    ax[2].imshow(abs(np.fft.ifft2(dark_image_grey_fourier)), cmap='gray') \n",
    "    ax[2].set_title('Transformed Greyscale Image', fontsize = f_size)\n",
    "    \n",
    "    dark_image = abs(np.fft.ifft2(dark_image_grey_fourier)\n",
    "    \n",
    "fourier_masker_hor(dark_image, 1)"
   ]
  },
  {
   "cell_type": "code",
   "execution_count": null,
   "id": "146ef03a",
   "metadata": {},
   "outputs": [],
   "source": [
    "def fourier_iterator(image, value_list): \n",
    "    for i in value_list:\n",
    "        fourier_masker_ver(image, i)\n",
    "        \n",
    "fourier_iterator(dark_image, [0.001, 1, 100])"
   ]
  },
  {
   "cell_type": "code",
   "execution_count": null,
   "id": "32782042",
   "metadata": {},
   "outputs": [],
   "source": [
    "def fourier_transform_rgb(image):\n",
    "    f_size = 25\n",
    "    transformed_channels = [] \n",
    "    for i in range(3):\n",
    "        rgb_fft = np.fft.fftshift(np.fft.fft2((image[:, :, i]))) \n",
    "        rgb_fft[:225, 235:237] = 1\n",
    "        rgb_fft[-225:,235:237] = 1 \n",
    "        transformed_channels.append(abs(np.fft.ifft2(rgb_fft)))\n",
    "\n",
    "    final_image = np.dstack([transformed_channels[0].astype(int), \n",
    "                             transformed_channels[1].astype(int),\n",
    "                             transformed_channels[2].astype(int)])\n",
    "    \n",
    "    fig, ax = plt.subplots(1, 2, figsize=(17,12)) \n",
    "    ax[0].imshow(image)\n",
    "    ax[0].set_title('Original Image', fontsize = f_size) \n",
    "    ax[0].set_axis_off()\n",
    "    \n",
    "    ax[1].imshow(final_image)\n",
    "    ax[1].set_title('Transformed Image', fontsize = f_size) \n",
    "    ax[1].set_axis_off()\n",
    "    \n",
    "    fig.tight_layout()"
   ]
  },
  {
   "cell_type": "code",
   "execution_count": null,
   "id": "497033c9",
   "metadata": {},
   "outputs": [],
   "source": [
    "fourier_transform_rgb(dark_image)"
   ]
  },
  {
   "cell_type": "code",
   "execution_count": null,
   "id": "b98c3a04",
   "metadata": {},
   "outputs": [],
   "source": []
  }
 ],
 "metadata": {
  "kernelspec": {
   "display_name": "Python 3 (ipykernel)",
   "language": "python",
   "name": "python3"
  },
  "language_info": {
   "codemirror_mode": {
    "name": "ipython",
    "version": 3
   },
   "file_extension": ".py",
   "mimetype": "text/x-python",
   "name": "python",
   "nbconvert_exporter": "python",
   "pygments_lexer": "ipython3",
   "version": "3.9.12"
  }
 },
 "nbformat": 4,
 "nbformat_minor": 5
}
