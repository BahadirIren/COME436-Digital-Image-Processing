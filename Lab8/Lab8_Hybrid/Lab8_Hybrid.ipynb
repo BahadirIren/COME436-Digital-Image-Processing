{
 "cells": [
  {
   "cell_type": "code",
   "execution_count": null,
   "id": "a4daccdb",
   "metadata": {},
   "outputs": [],
   "source": [
    "conda install scipy"
   ]
  },
  {
   "cell_type": "code",
   "execution_count": 1,
   "id": "23320b6b",
   "metadata": {},
   "outputs": [],
   "source": [
    "import numpy\n",
    "from numpy.fft import fft2, ifft2, fftshift, ifftshift \n",
    "from scipy import misc\n",
    "from scipy import ndimage\n",
    "import math\n",
    "import cv2\n",
    "\n",
    "def scaleSpectrum(A):\n",
    "    return numpy.real(numpy.log10(numpy.absolute(A) + numpy.ones(A.shape)))\n",
    "\n",
    "# sample values from a spherical gaussian function from the center of the image\n",
    "def makeGaussianFilter(numRows, numCols, sigma, highPass=True): \n",
    "    centerI = int(numRows/2) + 1 if numRows % 2 == 1 else int(numRows/2) \n",
    "    centerJ = int(numCols/2) + 1 if numCols % 2 == 1 else int(numCols/2)\n",
    "    \n",
    "    def gaussian(i,j):\n",
    "        coefficient = math.exp(-1.0 * ((i - centerI)**2 + (j - centerJ)**2) / (2 * sigma**2)) \n",
    "        return 1 - coefficient if highPass else coefficient\n",
    "                                                                           \n",
    "    return numpy.array([[gaussian(i,j) for j in range(numCols)] for i in range(numRows)])\n",
    "                       \n",
    "def filterDFT(imageMatrix, filterMatrix): \n",
    "    shiftedDFT = fftshift(fft2(imageMatrix)) \n",
    "    cv2.imwrite(\"images/dft.png\", scaleSpectrum(shiftedDFT))\n",
    "                       \n",
    "    filteredDFT = shiftedDFT * filterMatrix\n",
    "    cv2.imwrite(\"images/filtered-dft.png\", scaleSpectrum(filteredDFT)) \n",
    "    return ifft2(ifftshift(filteredDFT))\n",
    "                       \n",
    "def lowPass(imageMatrix, sigma):\n",
    "    n,m = imageMatrix.shape              \n",
    "    return filterDFT(imageMatrix, makeGaussianFilter(n, m, sigma, highPass=False))\n",
    "                       \n",
    "def highPass(imageMatrix, sigma):\n",
    "    n,m = imageMatrix.shape\n",
    "    return filterDFT(imageMatrix, makeGaussianFilter(n, m, sigma, highPass=True))\n",
    "                       \n",
    "def hybridImage(highFreqImg, lowFreqImg, sigmaHigh, sigmaLow):\n",
    "    highPassed = highPass(highFreqImg, sigmaHigh)\n",
    "    lowPassed = lowPass(lowFreqImg, sigmaLow)\n",
    "    return highPassed + lowPassed \n",
    "\n",
    "def playWithFiltering():\n",
    "    marilyn = ndimage.imread(\"images/marilyn.png\", flatten=True)\n",
    "    highPassedMarilyn = highPass(marilyn, 20)\n",
    "    lowPassedMarilyn = lowPass(marilyn, 20)\n",
    "    cv2.imwrite(\"images/low-passed-marilyn.png\", numpy.real(lowPassedMarilyn))\n",
    "    cv2.imwrite(\"images/high-passed-marilyn.png\", numpy.real(highPassedMarilyn))\n",
    "    cv2.imwrite(\"images/sum-of-marilyns.png\", numpy.real((highPassedMarilyn + lowPassedMarilyn)/ 2.0))"
   ]
  },
  {
   "cell_type": "code",
   "execution_count": 4,
   "id": "094ab46b",
   "metadata": {},
   "outputs": [
    {
     "data": {
      "text/plain": [
       "True"
      ]
     },
     "execution_count": 4,
     "metadata": {},
     "output_type": "execute_result"
    }
   ],
   "source": [
    "einstein = cv2.imread(\"images/einstein.png\",0)\n",
    "marilyn = cv2.imread(\"images/marilyn.png\",0)\n",
    "hybrid = hybridImage(einstein, marilyn, 25, 10)\n",
    "cv2.imwrite(\"images/einstein-marilyn.png\", numpy.real(hybrid))"
   ]
  },
  {
   "cell_type": "code",
   "execution_count": null,
   "id": "9c1b9748",
   "metadata": {},
   "outputs": [],
   "source": [
    "import matplotlib.pyplot as plt\n",
    "\n",
    "plt.figure(figsize=(14, 18))\n",
    "plt.subplot(131)\n",
    "plt.imshow(cv2.cvtColor(einstein, cv2.COLOR_BGR2RGB))\n",
    "plt.subplot(132) \n",
    "plt.imshow(cv2.cvtColor(marilyn, cv2.COLOR_BGR2RGB))\n",
    "plt.subplot(133)\n",
    "plt.imshow(numpy.real(hybrid) , cmap ='gray')\n",
    "plt.show()"
   ]
  },
  {
   "cell_type": "code",
   "execution_count": 6,
   "id": "20076e56",
   "metadata": {},
   "outputs": [
    {
     "data": {
      "text/plain": [
       "True"
      ]
     },
     "execution_count": 6,
     "metadata": {},
     "output_type": "execute_result"
    }
   ],
   "source": [
    "einstein = cv2.imread(\"images/einstein.png\",0)\n",
    "marilyn = cv2.imread(\"images/marilyn.png\",0)\n",
    "hybrid = hybridImage(marilyn, einstein, 25, 10)\n",
    "cv2.imwrite(\"images/marilyn-einstein.png\", numpy.real(hybrid))"
   ]
  },
  {
   "cell_type": "code",
   "execution_count": null,
   "id": "3df240f2",
   "metadata": {},
   "outputs": [],
   "source": [
    "plt.figure(figsize=(14, 18))\n",
    "plt.subplot(131)\n",
    "plt.imshow(cv2.cvtColor(einstein, cv2.COLOR_BGR2RGB))\n",
    "plt.subplot(132) \n",
    "plt.imshow(cv2.cvtColor(marilyn, cv2.COLOR_BGR2RGB))\n",
    "plt.subplot(133)\n",
    "plt.imshow(numpy.real(hybrid) , cmap ='gray')\n",
    "plt.show()"
   ]
  },
  {
   "cell_type": "code",
   "execution_count": null,
   "id": "04a9e82e",
   "metadata": {},
   "outputs": [],
   "source": []
  }
 ],
 "metadata": {
  "kernelspec": {
   "display_name": "Python 3 (ipykernel)",
   "language": "python",
   "name": "python3"
  },
  "language_info": {
   "codemirror_mode": {
    "name": "ipython",
    "version": 3
   },
   "file_extension": ".py",
   "mimetype": "text/x-python",
   "name": "python",
   "nbconvert_exporter": "python",
   "pygments_lexer": "ipython3",
   "version": "3.9.12"
  }
 },
 "nbformat": 4,
 "nbformat_minor": 5
}
