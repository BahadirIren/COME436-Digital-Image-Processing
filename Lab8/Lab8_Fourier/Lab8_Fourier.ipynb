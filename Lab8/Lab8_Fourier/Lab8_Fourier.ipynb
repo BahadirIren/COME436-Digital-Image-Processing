{
 "cells": [
  {
   "cell_type": "code",
   "execution_count": null,
   "id": "da83c3a1",
   "metadata": {},
   "outputs": [],
   "source": [
    "import cv2\n",
    "import numpy as np\n",
    "import matplotlib.pyplot as plt\n",
    "\n",
    "%matplotlib inline"
   ]
  },
  {
   "cell_type": "code",
   "execution_count": null,
   "id": "37ab08e8",
   "metadata": {},
   "outputs": [],
   "source": [
    "desert = cv2.imread('../images/desert.png', 0) \n",
    "coffee = cv2.imread('../images/coffee.png', 0)\n",
    "\n",
    "a,b= desert.shape \n",
    "\n",
    "coffee=cv2.resize(coffee,(b,a)) \n",
    "\n",
    "plt.figure(figsize=(14, 18)) \n",
    "plt.subplot(121)\n",
    "plt.imshow(desert, cmap='gray') \n",
    "plt.subplot(122)\n",
    "plt.imshow(coffee, cmap='gray') \n",
    "plt.show()"
   ]
  },
  {
   "cell_type": "code",
   "execution_count": null,
   "id": "c0b325af",
   "metadata": {},
   "outputs": [],
   "source": [
    "# fourier transform\n",
    "desert_fft = np.fft.fftshift(np.fft.fft2(desert)) \n",
    "coffee_fft = np.fft.fftshift(np.fft.fft2(coffee))\n",
    "\n",
    "plt.figure(figsize=(14, 18))\n",
    "plt.subplot(121)\n",
    "plt.imshow(np.log(np.abs(desert_fft)), cmap='gray')\n",
    "plt.subplot(122) \n",
    "plt.imshow(np.log(np.abs(coffee_fft)), cmap='gray') \n",
    "plt.show()"
   ]
  },
  {
   "cell_type": "code",
   "execution_count": null,
   "id": "e4ee9c2c",
   "metadata": {},
   "outputs": [],
   "source": [
    "desert_amplitude = np.sqrt(np.real(desert_fft) ** 2 + np.imag(desert_fft) ** 2)\n",
    "desert_phase = np.arctan2(np.imag(desert_fft), np.real(desert_fft))\n",
    "\n",
    "plt.figure(figsize=(14, 18))\n",
    "plt.subplot(121)\n",
    "plt.imshow(np.log(desert_amplitude+1e-10), cmap='gray') \n",
    "plt.subplot(122)\n",
    "plt.imshow(desert_phase, cmap='gray')"
   ]
  },
  {
   "cell_type": "code",
   "execution_count": null,
   "id": "ce1542e8",
   "metadata": {},
   "outputs": [],
   "source": [
    "coffee_amplitude = np.sqrt(np.real(coffee_fft) ** 2 + np.imag(coffee_fft) ** 2) \n",
    "coffee_phase = np.arctan2(np.imag(coffee_fft), np.real(coffee_fft))\n",
    "\n",
    "plt.figure(figsize=(14, 18))\n",
    "plt.subplot(121) \n",
    "plt.imshow(np.log(coffee_amplitude+1e-10), cmap='gray') \n",
    "plt.subplot(122)\n",
    "plt.imshow(coffee_phase, cmap='gray')"
   ]
  },
  {
   "cell_type": "code",
   "execution_count": null,
   "id": "d372e628",
   "metadata": {},
   "outputs": [],
   "source": [
    "desert_coffee_comb = np.multiply(desert_amplitude, np.exp(1j * desert_phase)) \n",
    "desert_coffee = np.real(np.fft.ifft2(desert_coffee_comb)) # drop imagniary as they are\n",
    "\n",
    "# combined image has values < 0 and > 1, needs to be scaled.\n",
    "plt.figure(figsize=(15, 20))\n",
    "plt.subplot(131) \n",
    "plt.imshow(np.abs(desert_coffee), cmap='gray') \n",
    "plt.subplot(132)\n",
    "\n",
    "desert_coffee_shift = desert_coffee + desert_coffee.min() \n",
    "desert_coffee_shift[desert_coffee_shift>255] = 255 \n",
    "\n",
    "plt.imshow(desert_coffee_shift, cmap='gray') \n",
    "plt.subplot(133)\n",
    "desert_coffee[desert_coffee>255] = 255 \n",
    "desert_coffee[desert_coffee <0] = 0 \n",
    "plt.imshow(desert_coffee, cmap='gray')"
   ]
  },
  {
   "cell_type": "code",
   "execution_count": null,
   "id": "9d18b78e",
   "metadata": {},
   "outputs": [],
   "source": [
    "# amplitude_phase\n",
    "desert_coffee_comb = np.multiply(desert_amplitude, np.exp(1j * coffee_phase)) \n",
    "desert_coffee = np.real(np.fft.ifft2(desert_coffee_comb)) # drop imagniary as they are around 1e-14\n",
    "\n",
    "# combined image has values < 0 and > 1, needs to be scaled.\n",
    "plt.figure(figsize=(15, 20))\n",
    "plt.subplot(131) \n",
    "plt.imshow(np.abs(desert_coffee), cmap='gray') \n",
    "plt.subplot(132)\n",
    "\n",
    "desert_coffee_shift = desert_coffee + desert_coffee.min() \n",
    "desert_coffee_shift[desert_coffee_shift>255] = 255 \n",
    "\n",
    "plt.imshow(desert_coffee_shift)\n",
    "plt.subplot(133)\n",
    "desert_coffee[desert_coffee>255] = 255 \n",
    "desert_coffee[desert_coffee <0] = 0 \n",
    "plt.imshow(desert_coffee)"
   ]
  },
  {
   "cell_type": "code",
   "execution_count": null,
   "id": "fca4bbe3",
   "metadata": {},
   "outputs": [],
   "source": [
    "# amplitude_phase\n",
    "coffee_desert_comb = np.multiply(coffee_amplitude, np.exp(1j * desert_phase)) \n",
    "coffee_desert = np.real(np.fft.ifft2(coffee_desert_comb)) # drop imagniary as they are around 1e-14\n",
    "\n",
    "# combined image has values < 0 and > 1, needs to be scaled.\n",
    "plt.figure(figsize=(15, 20))\n",
    "plt.subplot(131)\n",
    "plt.imshow(np.abs(coffee_desert), cmap='gray')\n",
    "plt.subplot(132)\n",
    "\n",
    "coffee_desert_shift = coffee_desert + coffee_desert.min()\n",
    "coffee_desert_shift[coffee_desert_shift>255] = 255\n",
    "\n",
    "plt.imshow(coffee_desert_shift)\n",
    "plt.subplot(133)\n",
    "coffee_desert[coffee_desert>255] = 255 \n",
    "coffee_desert[coffee_desert <0] = 0 \n",
    "plt.imshow(coffee_desert)"
   ]
  }
 ],
 "metadata": {
  "kernelspec": {
   "display_name": "Python 3 (ipykernel)",
   "language": "python",
   "name": "python3"
  },
  "language_info": {
   "codemirror_mode": {
    "name": "ipython",
    "version": 3
   },
   "file_extension": ".py",
   "mimetype": "text/x-python",
   "name": "python",
   "nbconvert_exporter": "python",
   "pygments_lexer": "ipython3",
   "version": "3.9.12"
  }
 },
 "nbformat": 4,
 "nbformat_minor": 5
}
