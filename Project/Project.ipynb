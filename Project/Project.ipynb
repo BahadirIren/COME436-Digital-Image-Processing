{
 "cells": [
  {
   "cell_type": "code",
   "execution_count": 1,
   "id": "1a32de49",
   "metadata": {},
   "outputs": [
    {
     "name": "stdout",
     "output_type": "stream",
     "text": [
      "Exiting\n"
     ]
    }
   ],
   "source": [
    "import sys\n",
    "from PyQt5.uic import loadUi\n",
    "from PyQt5 import QtWidgets\n",
    "from PyQt5.QtWidgets import *\n",
    "from PyQt5.QtGui import QPixmap\n",
    "\n",
    "class MainWindow(QMainWindow):\n",
    "    def __init__(self):\n",
    "        super(MainWindow, self).__init__()\n",
    "        loadUi(\"Digital-Image-Project.ui\", self)\n",
    "\n",
    "        self.loadImageButton = self.findChild(QToolButton, \"loadImageButton\")\n",
    "        \n",
    "        self.loadImageButton.clicked.connect(self.addImage)\n",
    "\n",
    "    \n",
    "    def addImage(self):\n",
    "        qPixMap = QPixmap(\"python-logo.png\")\n",
    "        self.imageLabel.setPixmap(qPixMap)\n",
    "        \n",
    "# main\n",
    "app = QApplication(sys.argv)\n",
    "mainWindow = MainWindow()\n",
    "mainWindow.show()\n",
    "try:\n",
    "    sys.exit(app.exec_())\n",
    "except:\n",
    "    print(\"Exiting\")"
   ]
  },
  {
   "cell_type": "code",
   "execution_count": null,
   "id": "b5626fd3",
   "metadata": {},
   "outputs": [],
   "source": []
  }
 ],
 "metadata": {
  "interpreter": {
   "hash": "5afd753521192693e5e546d69d7980f9f31688b70dcfe3b6261fbc7f15964264"
  },
  "kernelspec": {
   "display_name": "Python 3.9.12 ('base')",
   "language": "python",
   "name": "python3"
  },
  "language_info": {
   "codemirror_mode": {
    "name": "ipython",
    "version": 3
   },
   "file_extension": ".py",
   "mimetype": "text/x-python",
   "name": "python",
   "nbconvert_exporter": "python",
   "pygments_lexer": "ipython3",
   "version": "3.9.12"
  }
 },
 "nbformat": 4,
 "nbformat_minor": 5
}
