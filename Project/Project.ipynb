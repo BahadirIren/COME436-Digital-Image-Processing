{
 "cells": [
  {
   "cell_type": "code",
   "execution_count": 1,
   "id": "1a32de49",
   "metadata": {},
   "outputs": [
    {
     "ename": "",
     "evalue": "",
     "output_type": "error",
     "traceback": [
      "\u001b[1;31mCanceled future for execute_request message before replies were done"
     ]
    },
    {
     "ename": "",
     "evalue": "",
     "output_type": "error",
     "traceback": [
      "\u001b[1;31mThe Kernel crashed while executing code in the the current cell or a previous cell. Please review the code in the cell(s) to identify a possible cause of the failure. Click <a href='https://aka.ms/vscodeJupyterKernelCrash'>here</a> for more info. View Jupyter <a href='command:jupyter.viewOutput'>log</a> for further details."
     ]
    }
   ],
   "source": [
    "import cv2\n",
    "import sys\n",
    "from PyQt5.uic import loadUi\n",
    "from PyQt5 import *\n",
    "from PyQt5.QtWidgets import *\n",
    "from PyQt5.QtGui import *\n",
    "from PyQt5.QtCore import *\n",
    "\n",
    "\n",
    "class MainWindow(QMainWindow):\n",
    "\n",
    "    def __init__(self):\n",
    "        super(MainWindow, self).__init__()\n",
    "        loadUi(\"Digital-Image-Project.ui\", self)\n",
    "\n",
    "        self.loadImageButton.clicked.connect(self.addImage)\n",
    "\n",
    "        self.openButton.clicked.connect(self.openCamera)\n",
    "        self.closeButton.clicked.connect(self.closeCamera)\n",
    "        self.snapButton.clicked.connect(self.snapCamera)\n",
    "\n",
    "        self.exitButton.clicked.connect(self.exit)\n",
    "\n",
    "    def addImage(self):\n",
    "        qPixMap = QPixmap(\"python-logo.png\")\n",
    "        self.imageLabel.setPixmap(qPixMap)\n",
    "\n",
    "    def snapCamera(self):\n",
    "        self.thread.snapCamera()\n",
    "\n",
    "    def closeCamera(self):\n",
    "        self.thread.closeCamera()\n",
    "\n",
    "    @pyqtSlot(QImage)\n",
    "    def setImage(self, image):\n",
    "        self.imageLabel.setPixmap(QPixmap.fromImage(image))\n",
    "\n",
    "    def openCamera(self):\n",
    "        # TODO kamera acikken tekrar acmaya basarsa kapatma calismiyor\n",
    "        self.thread = Thread(self)\n",
    "        self.thread.changePixmap.connect(self.setImage)\n",
    "        self.thread.start()\n",
    "\n",
    "    def exit(self):\n",
    "        self.closeCamera()\n",
    "        sys.exit()\n",
    "\n",
    "\n",
    "class Thread(QThread):\n",
    "    changePixmap = pyqtSignal(QImage)\n",
    "\n",
    "    def run(self):\n",
    "        self.threadActive = True\n",
    "\n",
    "        cap = cv2.VideoCapture(0)\n",
    "\n",
    "        while self.threadActive:\n",
    "            ret, self.frame = cap.read()\n",
    "\n",
    "            if ret:\n",
    "                rgbImage = cv2.cvtColor(self.frame, cv2.COLOR_BGR2RGB)\n",
    "                h, w, ch = rgbImage.shape\n",
    "                bytesPerLine = ch * w\n",
    "                convertToQtFormat = QImage(\n",
    "                    rgbImage.data, w, h, bytesPerLine, QImage.Format_RGB888)\n",
    "                p = convertToQtFormat.scaled(640, 480, Qt.KeepAspectRatio)\n",
    "                self.changePixmap.emit(p)\n",
    "\n",
    "        cap.release()\n",
    "\n",
    "    def closeCamera(self):\n",
    "        if self.isRunning:\n",
    "            self.threadActive = False\n",
    "            self.quit()\n",
    "\n",
    "    def snapCamera(self):\n",
    "        if self.threadActive:\n",
    "            cv2.imwrite(\"snapped-image.png\", self.frame)\n",
    "\n",
    "\n",
    "# main\n",
    "app = QApplication(sys.argv)\n",
    "mainWindow = MainWindow()\n",
    "mainWindow.show()\n",
    "try:\n",
    "    sys.exit(app.exec_())\n",
    "except:\n",
    "    print(\"Exiting\")\n"
   ]
  }
 ],
 "metadata": {
  "interpreter": {
   "hash": "5afd753521192693e5e546d69d7980f9f31688b70dcfe3b6261fbc7f15964264"
  },
  "kernelspec": {
   "display_name": "Python 3 (ipykernel)",
   "language": "python",
   "name": "python3"
  },
  "language_info": {
   "codemirror_mode": {
    "name": "ipython",
    "version": 3
   },
   "file_extension": ".py",
   "mimetype": "text/x-python",
   "name": "python",
   "nbconvert_exporter": "python",
   "pygments_lexer": "ipython3",
   "version": "3.9.12"
  }
 },
 "nbformat": 4,
 "nbformat_minor": 5
}
