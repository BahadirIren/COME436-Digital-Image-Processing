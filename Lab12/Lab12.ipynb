{
 "cells": [
  {
   "cell_type": "code",
   "execution_count": 1,
   "id": "669493fc",
   "metadata": {},
   "outputs": [],
   "source": [
    "import cv2\n",
    "import numpy as np"
   ]
  },
  {
   "cell_type": "code",
   "execution_count": 2,
   "id": "be6acfc6",
   "metadata": {},
   "outputs": [],
   "source": [
    "img_j = cv2.imread(\"images/j.png\",0)\n",
    "width = int (img_j.shape[1] *2)\n",
    "height = int(img_j.shape[0] * 2)\n",
    "dim = (width, height)\n",
    "\n",
    "# resize image\n",
    "re_img = cv2.resize(img_j, dim, interpolation = cv2.INTER_AREA)"
   ]
  },
  {
   "cell_type": "code",
   "execution_count": 18,
   "id": "417fc3f3",
   "metadata": {},
   "outputs": [],
   "source": [
    "kernel = np.ones ((3,3) , np.uint8)"
   ]
  },
  {
   "cell_type": "code",
   "execution_count": 26,
   "id": "a902e5df",
   "metadata": {},
   "outputs": [],
   "source": [
    "erosion = cv2.erode(re_img,kernel,iterations=5)\n",
    "dilation = cv2.dilate(re_img,kernel,iterations=5)\n",
    "opening = cv2.morphologyEx(re_img, cv2.MORPH_OPEN, kernel)\n",
    "closing = cv2. morphologyEx(re_img,cv2.MORPH_CLOSE,kernel)\n",
    "gradient = cv2.morphologyEx(re_img, cv2.MORPH_GRADIENT, kernel)"
   ]
  },
  {
   "cell_type": "code",
   "execution_count": 27,
   "id": "fee1b6cf",
   "metadata": {},
   "outputs": [],
   "source": [
    "cv2.imshow('original', re_img)\n",
    "cv2.imshow('erode', erosion)\n",
    "cv2.imshow('dilated',dilation)\n",
    "cv2.imshow('OPEN' ,opening)\n",
    "cv2.imshow('CLOSE',closing)\n",
    "cv2. imshow('Gradient',gradient)\n",
    "\n",
    "cv2.waitKey(0)\n",
    "cv2.destroyAllWindows()"
   ]
  },
  {
   "cell_type": "code",
   "execution_count": 3,
   "id": "e62d99a9",
   "metadata": {},
   "outputs": [],
   "source": [
    "def getSkeleton(image):\n",
    "\n",
    "    img_cv = cv2.imread(image, 0)\n",
    "    size = np.size(img_cv)\n",
    "    skel = np.zeros(img_cv.shape, np.uint8)\n",
    "    cv2.imshow('original', img_cv)\n",
    "\n",
    "    ret, img_cv = cv2.threshold(img_cv, 127, 255, 0)\n",
    "    element = cv2.getStructuringElement(cv2.MORPH_CROSS, (3,3))\n",
    "\n",
    "    done = False\n",
    "\n",
    "    while(not done):\n",
    "        eroded = cv2.erode(img_cv, element)\n",
    "        temp = cv2.dilate(eroded, element)\n",
    "        temp = cv2.subtract(img_cv, temp)\n",
    "        skel = cv2.bitwise_or(skel, temp)\n",
    "        img_cv = eroded.copy()\n",
    "\n",
    "        zeros = size - cv2.countNonZero(img_cv)\n",
    "        if zeros == size:\n",
    "            done = True\n",
    "\n",
    "    cv2.imshow('skel',skel)\n",
    "\n",
    "    cv2.waitKey(0)\n",
    "    cv2.destroyAllWindows()"
   ]
  },
  {
   "cell_type": "code",
   "execution_count": 4,
   "id": "5365aa28",
   "metadata": {},
   "outputs": [],
   "source": [
    "getSkeleton('images/opencv.png')\n",
    "getSkeleton('images/j.png')"
   ]
  },
  {
   "cell_type": "code",
   "execution_count": 2,
   "id": "1b07d402",
   "metadata": {},
   "outputs": [],
   "source": [
    "# hit or miss\n",
    "import cv2 as cv\n",
    "\n",
    "input_image = np.array((\n",
    "    [0, 0, 0, 0, 0, 0, 0, 0],\n",
    "    [0, 255, 255, 255, 0, 0, 0, 255],\n",
    "    [0, 255, 255, 255, 0, 0, 0, 0],\n",
    "    [0, 255, 255, 255, 0, 255, 0, 0],\n",
    "    [0, 0, 255, 0, 0, 0, 0, 0],\n",
    "    [0, 0, 255, 0, 0, 255, 255, 0],\n",
    "    [0,255, 0, 255, 0, 0, 255, 0],\n",
    "    [0, 255, 255, 255, 0, 0, 0, 0]), dtype=\"uint8\")\n",
    "\n",
    "kernel = np.array(( \n",
    "    [0, 1, 0],\n",
    "    [1, -1, 1],\n",
    "    [0, 1, 0]), dtype=\"int\")\n",
    "\n",
    "output_image = cv.morphologyEx(input_image, cv.MORPH_HITMISS, kernel)\n",
    "rate = 50\n",
    "kernel = (kernel + 1) * 127\n",
    "kernel = np.uint8(kernel)\n",
    "kernel = cv.resize(kernel, None, fx = rate, fy = rate, interpolation = cv.INTER_NEAREST)\n",
    "cv.imshow(\"kernel\", kernel)\n",
    "cv.moveWindow(\"kernel\", 0, 0)\n",
    "                   \n",
    "input_image = cv.resize(input_image, None, fx = rate, fy = rate, interpolation = cv.INTER_NEAREST)\n",
    "cv.imshow(\"Original\", input_image)\n",
    "cv.moveWindow(\"Original\", 0, 200)\n",
    "                        \n",
    "output_image = cv.resize(output_image, None , fx = rate, fy = rate, interpolation = cv.INTER_NEAREST)\n",
    "cv.imshow(\"Hit or Miss\", output_image)\n",
    "cv.moveWindow(\"Hit or Miss\", 500, 200)\n",
    "                         \n",
    "cv.waitKey(0)\n",
    "cv.destroyAllWindows()"
   ]
  },
  {
   "cell_type": "code",
   "execution_count": null,
   "id": "5d4339e0",
   "metadata": {},
   "outputs": [],
   "source": []
  }
 ],
 "metadata": {
  "kernelspec": {
   "display_name": "Python 3 (ipykernel)",
   "language": "python",
   "name": "python3"
  },
  "language_info": {
   "codemirror_mode": {
    "name": "ipython",
    "version": 3
   },
   "file_extension": ".py",
   "mimetype": "text/x-python",
   "name": "python",
   "nbconvert_exporter": "python",
   "pygments_lexer": "ipython3",
   "version": "3.9.12"
  }
 },
 "nbformat": 4,
 "nbformat_minor": 5
}
