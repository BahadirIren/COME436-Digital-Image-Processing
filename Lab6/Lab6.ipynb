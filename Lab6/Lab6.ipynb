{
 "cells": [
  {
   "cell_type": "code",
   "execution_count": null,
   "id": "340e0156",
   "metadata": {},
   "outputs": [],
   "source": [
    "import cv2 as cv\n",
    "import matplotlib.pyplot as plt\n",
    "import numpy as np"
   ]
  },
  {
   "cell_type": "code",
   "execution_count": null,
   "id": "8f4575d0",
   "metadata": {},
   "outputs": [],
   "source": [
    "x = np.arange(-500, 500, 1)\n",
    "X, Y = np.meshgrid(x, x)\n",
    "wavelength = 200\n",
    "grating = np.sin(2 * np.pi * X / wavelength) \n",
    "plt.set_cmap(\"gray\")\n",
    "plt.imshow(grating)\n",
    "plt.show()\n",
    "\n",
    "# calculate the fourier transform of grating\n",
    "ft = np.fft.ifftshift(grating)\n",
    "ft = np.fft.fft2(ft)\n",
    "ft = np.fft.fftshift(ft)\n",
    "plt.subplot(122)\n",
    "plt.imshow(abs(ft))\n",
    "plt.xlim([480, 520])\n",
    "plt.ylim([520, 480]) # note, order is reversed for y\n",
    "plt.show()"
   ]
  },
  {
   "cell_type": "code",
   "execution_count": null,
   "id": "91930006",
   "metadata": {},
   "outputs": [],
   "source": [
    "x = np.arange(-500, 500, 1)\n",
    "X, Y = np.meshgrid(x, x)\n",
    "wavelength = 200\n",
    "angle = np.pi / 9\n",
    "grating = np.sin(2 * np.pi * (X * np.cos(angle) + Y * np.sin(angle)) / wavelength)\n",
    "plt.set_cmap(\"gray\")\n",
    "plt.imshow(grating)\n",
    "plt.show()\n",
    "\n",
    "# calculate the fourier transform of grating\n",
    "ft = np.fft.ifftshift(grating)\n",
    "ft = np.fft.fft2(ft)\n",
    "ft = np.fft.fftshift(ft)\n",
    "plt.subplot(122)\n",
    "plt.imshow(abs(ft))\n",
    "plt.xlim([480, 520])\n",
    "plt.ylim([520, 480]) # note, order is reversed for y\n",
    "plt.show()"
   ]
  },
  {
   "cell_type": "code",
   "execution_count": null,
   "id": "4d4b34aa",
   "metadata": {},
   "outputs": [],
   "source": [
    "x = np.arange(-500, 500, 1)\n",
    "X, Y = np.meshgrid(x, x)\n",
    "\n",
    "wavelength1 = 200\n",
    "angle1 = 0\n",
    "grating1 = np.sin(2 * np.pi * (Y * np.cos(angle1) + X * np.sin(angle1)) / wavelength1)\n",
    "\n",
    "wavelenght2 = 100\n",
    "angle2 = np.pi / 4\n",
    "grating2 = np.sin(2 * np.pi * (Y * np.cos(angle2) + X * np.sin(angle2)) / wavelenght2)\n",
    "\n",
    "plt.set_cmap(\"gray\")\n",
    "plt.subplot(121)\n",
    "plt.imshow(grating1)\n",
    "plt.subplot(122)\n",
    "plt.imshow(grating2)\n",
    "plt.show()\n",
    "\n",
    "gratings = grating1 + grating2\n",
    "\n",
    "# calculate the fourier transform of grating\n",
    "ft = np.fft.ifftshift(gratings)\n",
    "ft = np.fft.fft2(ft)\n",
    "ft = np.fft.fftshift(ft)\n",
    "plt.figure()\n",
    "plt.subplot(121)\n",
    "plt.imshow(gratings)\n",
    "plt.subplot(122)\n",
    "plt.imshow(abs(ft))\n",
    "plt.xlim([480, 520])\n",
    "plt.ylim([520, 480]) # note, order is reversed for y\n",
    "plt.show()"
   ]
  },
  {
   "cell_type": "code",
   "execution_count": null,
   "id": "59486f8e",
   "metadata": {},
   "outputs": [],
   "source": [
    "img = cv.imread(\"boy.bmp\")"
   ]
  },
  {
   "cell_type": "code",
   "execution_count": null,
   "id": "6d433143",
   "metadata": {},
   "outputs": [],
   "source": [
    "kernel = np.ones((5,5),np.float32)/25 \n",
    "dst = cv.filter2D(img,-1,kernel) \n",
    "blur = cv.blur(img,(5,5))\n",
    "\n",
    "cv.imshow('original',img) \n",
    "cv.imshow('filtered',dst) \n",
    "cv.imshow('blured',blur) \n",
    "cv.waitKey(0) \n",
    "cv.destroyAllWindows()\n",
    "cv.waitKey(1) "
   ]
  },
  {
   "cell_type": "code",
   "execution_count": null,
   "id": "326eb741",
   "metadata": {},
   "outputs": [],
   "source": [
    "blur = cv.GaussianBlur(img,(5,5),0) \n",
    "median5 = cv.medianBlur(img,5) \n",
    "median9 = cv.medianBlur(img,9)"
   ]
  },
  {
   "cell_type": "code",
   "execution_count": null,
   "id": "16c1d042",
   "metadata": {},
   "outputs": [],
   "source": [
    "from random import * \n",
    "mean = 0\n",
    "var = 40\n",
    "sigma = var ** 0.5\n",
    "gaussian = np.random.normal(mean, sigma, (img.shape[0],img.shape[1])) \n",
    "noisy_image=img\n",
    "noisy_image[:, :, 0] = img[:, :, 0] + gaussian \n",
    "noisy_image[:, :, 1] = img[:, :, 1] + gaussian \n",
    "noisy_image[:, :, 2] = img[:, :, 2] + gaussian"
   ]
  },
  {
   "cell_type": "code",
   "execution_count": null,
   "id": "f2eb9cac",
   "metadata": {},
   "outputs": [],
   "source": [
    "#cv2.imshow('gaussian noise',noisy_image)\n",
    "median5 = cv.medianBlur(noisy_image,5) \n",
    "median9 = cv.medianBlur(noisy_image,9) \n",
    "\n",
    "cv.imshow('median5 filtered',median5) \n",
    "cv.imshow('median9 filtered',median9) \n",
    "cv.imshow('noisy imaged',noisy_image) \n",
    "cv.waitKey(0)\n",
    "cv.destroyAllWindows()\n",
    "cv.waitKey(1)"
   ]
  },
  {
   "cell_type": "code",
   "execution_count": null,
   "id": "73374814",
   "metadata": {},
   "outputs": [],
   "source": [
    "img = cv.imread('boy.bmp',0) \n",
    "img=cv.cvtColor(noisy_image, cv.COLOR_BGR2GRAY) \n",
    "cv.imshow('gray',img)\n",
    "cv.waitKey(0)\n",
    "cv.destroyAllWindows()\n",
    "cv.waitKey(1)"
   ]
  },
  {
   "cell_type": "code",
   "execution_count": null,
   "id": "cf56ad00",
   "metadata": {},
   "outputs": [],
   "source": [
    "dft = cv.dft(np.float32(img),flags = cv.DFT_COMPLEX_OUTPUT) \n",
    "dft_shift = np.fft.fftshift(dft)\n",
    "magnitude_spectrum = 20*np.log(cv.magnitude(dft_shift[:,:,0],dft_shift[:,:,1])) \n",
    "plt.subplot(121),plt.imshow(img, cmap = 'gray')\n",
    "\n",
    "plt.title('Input Image'), plt.xticks([]), plt.yticks([]) \n",
    "plt.subplot(122),plt.imshow(magnitude_spectrum, cmap = 'gray') \n",
    "plt.title('Magnitude Spectrum'), plt.xticks([]), plt.yticks([]) \n",
    "plt.show()"
   ]
  },
  {
   "cell_type": "code",
   "execution_count": null,
   "id": "aad10499",
   "metadata": {},
   "outputs": [],
   "source": [
    "rows, cols = img.shape\n",
    "crow,ccol = int(rows/2) , int(cols/2)\n",
    "\n",
    "# create a mask first, center square is 1, remaining all zeros\n",
    "mask = np.zeros((rows,cols,2),np.uint8) \n",
    "mask[crow-60:crow+60, ccol-60:ccol+60] = 1\n",
    "\n",
    "# apply mask and inverse DFT\n",
    "fshift = dft_shift*mask\n",
    "f_ishift = np.fft.ifftshift(fshift)\n",
    "img_back = cv.idft(f_ishift)\n",
    "img_back = cv.magnitude(img_back[:,:,0],img_back[:,:,1])\n",
    "\n",
    "plt.subplot(121),plt.imshow(img, cmap = 'gray') \n",
    "plt.title('Input Image'), plt.xticks([]), plt.yticks([]) \n",
    "plt.subplot(122),plt.imshow(img_back, cmap = 'gray') \n",
    "plt.title('Magnitude Spectrum'), plt.xticks([]), plt.yticks([]) \n",
    "plt.show()"
   ]
  },
  {
   "cell_type": "code",
   "execution_count": null,
   "id": "f179f00d",
   "metadata": {},
   "outputs": [],
   "source": [
    "xx=np.max(img_back)/255 \n",
    "img_backn=img_back/xx"
   ]
  },
  {
   "cell_type": "code",
   "execution_count": null,
   "id": "1456fddc",
   "metadata": {},
   "outputs": [],
   "source": [
    "ximg=img_backn.astype(int)"
   ]
  },
  {
   "cell_type": "code",
   "execution_count": null,
   "id": "dc99a3ff",
   "metadata": {},
   "outputs": [],
   "source": [
    "cv.imshow('gray',ximg) \n",
    "cv.waitKey(0) \n",
    "cv.destroyAllWindows()\n",
    "cv.waitKey(1)"
   ]
  },
  {
   "cell_type": "code",
   "execution_count": null,
   "id": "ee55c694",
   "metadata": {},
   "outputs": [],
   "source": [
    "cv.imshow('gray',img) \n",
    "cv.waitKey(0) \n",
    "cv.destroyAllWindows()\n",
    "cv.waitKey(1) "
   ]
  },
  {
   "cell_type": "code",
   "execution_count": null,
   "id": "a1b8fee6",
   "metadata": {},
   "outputs": [],
   "source": [
    "np.max(img_back)"
   ]
  },
  {
   "cell_type": "code",
   "execution_count": null,
   "id": "3fe15fe2",
   "metadata": {},
   "outputs": [],
   "source": []
  }
 ],
 "metadata": {
  "kernelspec": {
   "display_name": "Python 3 (ipykernel)",
   "language": "python",
   "name": "python3"
  },
  "language_info": {
   "codemirror_mode": {
    "name": "ipython",
    "version": 3
   },
   "file_extension": ".py",
   "mimetype": "text/x-python",
   "name": "python",
   "nbconvert_exporter": "python",
   "pygments_lexer": "ipython3",
   "version": "3.9.12"
  }
 },
 "nbformat": 4,
 "nbformat_minor": 5
}
