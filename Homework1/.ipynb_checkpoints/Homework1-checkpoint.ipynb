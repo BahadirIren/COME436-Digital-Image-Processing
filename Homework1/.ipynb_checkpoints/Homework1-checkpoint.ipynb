{
 "cells": [
  {
   "cell_type": "code",
   "execution_count": 1,
   "id": "3f122cf6",
   "metadata": {},
   "outputs": [
    {
     "data": {
      "text/plain": [
       "-1"
      ]
     },
     "execution_count": 1,
     "metadata": {},
     "output_type": "execute_result"
    }
   ],
   "source": [
    "# • read an image 1 from hard disk\n",
    "# • display it\n",
    "# • read an image 2 from hard disk\n",
    "# • display it\n",
    "# • rescale image 1 50%\n",
    "# • concatenate horizontal image 1-2\n",
    "# • display\n",
    "# • concatenate vertical image 1-2\n",
    "# • save vertical concatenated image\n",
    "\n",
    "\n",
    "import cv2\n",
    "\n",
    "def scale_image(image, scale_factor):\n",
    "    height = int(image.shape[0] * (scale_factor / 100))\n",
    "    width = int(image.shape[1] * (scale_factor / 100))\n",
    "    \n",
    "    dimension = (width, height)\n",
    "    \n",
    "    return cv2.resize(image1, dimension, interpolation = cv2.INTER_AREA)\n",
    "\n",
    "\n",
    "# image2 resized according to image1's height\n",
    "def horizontal_concatenate_images(image1, image2):\n",
    "    \n",
    "    image1_heigth = image1.shape[0]\n",
    "    image2_width = image2.shape[1]\n",
    "\n",
    "    dimension = (image2_width, image1_heigth)\n",
    "\n",
    "    resized_image2 = cv2.resize(image2, dimension, interpolation = cv2.INTER_AREA)\n",
    "\n",
    "    horizontal_concat_image = cv2.hconcat([image1, resized_image2])\n",
    "\n",
    "    cv2.imshow('horizontal concatenated image', horizontal_concat_image)\n",
    "    \n",
    "\n",
    "# image2 resized according to image1's width\n",
    "def vertical_concatenate_images(image1, image2):\n",
    "    \n",
    "    image2_height = image2.shape[0]\n",
    "    image1_width = image1.shape[1]\n",
    "    \n",
    "    dimension = (image1_width, image2_height)\n",
    "    \n",
    "    resized_image2 = cv2.resize(image2, dimension, interpolation = cv2.INTER_AREA)\n",
    "    \n",
    "    vertical_concat_image = cv2.vconcat([image1, resized_image2])\n",
    "    \n",
    "    cv2.imwrite('images/vertical_concatenated_image.jpg', vertical_concat_image)\n",
    "    \n",
    "\n",
    "image1 = cv2.imread('images/image1.jpg', 1)\n",
    "cv2.imshow('image 1',image1)\n",
    "\n",
    "image2 = cv2.imread('images/image2.jpg', 1)\n",
    "cv2.imshow('image 2',image2)\n",
    "\n",
    "resized_image1 = scale_image(image1, 50)\n",
    "\n",
    "horizontal_concatenate_images(image1, image2)\n",
    "vertical_concatenate_images(image1, image2)\n",
    "\n",
    "\n",
    "cv2.waitKey(0) # close window when a key press is detected\n",
    "cv2.destroyAllWindows()\n",
    "cv2.waitKey(1)"
   ]
  },
  {
   "cell_type": "code",
   "execution_count": null,
   "id": "3caaf72f",
   "metadata": {},
   "outputs": [],
   "source": []
  }
 ],
 "metadata": {
  "kernelspec": {
   "display_name": "Python 3 (ipykernel)",
   "language": "python",
   "name": "python3"
  },
  "language_info": {
   "codemirror_mode": {
    "name": "ipython",
    "version": 3
   },
   "file_extension": ".py",
   "mimetype": "text/x-python",
   "name": "python",
   "nbconvert_exporter": "python",
   "pygments_lexer": "ipython3",
   "version": "3.9.7"
  }
 },
 "nbformat": 4,
 "nbformat_minor": 5
}
