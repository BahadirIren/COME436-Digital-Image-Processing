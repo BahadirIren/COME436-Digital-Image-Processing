{
 "cells": [
  {
   "cell_type": "code",
   "execution_count": 6,
   "id": "e3a1e041",
   "metadata": {},
   "outputs": [],
   "source": [
    "import cv2\n",
    "import numpy as np"
   ]
  },
  {
   "cell_type": "code",
   "execution_count": null,
   "id": "56e0acb3",
   "metadata": {},
   "outputs": [],
   "source": [
    "# all cv2 color functions\n",
    "flags = [i for i in dir(cv2) if i.startswith('COLOR_')]\n",
    "print(flags)"
   ]
  },
  {
   "cell_type": "code",
   "execution_count": 7,
   "id": "f3ad22b0",
   "metadata": {},
   "outputs": [],
   "source": [
    "green = np.uint8([[[0, 255, 0]]])"
   ]
  },
  {
   "cell_type": "code",
   "execution_count": 8,
   "id": "a09c05d9",
   "metadata": {},
   "outputs": [],
   "source": [
    "hsv_green = cv2.cvtColor(green, cv2.COLOR_BGR2HSV)"
   ]
  },
  {
   "cell_type": "code",
   "execution_count": 9,
   "id": "5411874b",
   "metadata": {},
   "outputs": [
    {
     "data": {
      "text/plain": [
       "array([[[ 60, 255, 255]]], dtype=uint8)"
      ]
     },
     "execution_count": 9,
     "metadata": {},
     "output_type": "execute_result"
    }
   ],
   "source": [
    "hsv_green"
   ]
  },
  {
   "cell_type": "code",
   "execution_count": 13,
   "id": "0dd062f5",
   "metadata": {},
   "outputs": [],
   "source": [
    "lower_red = np.array([150, 150, 0])\n",
    "upper_red = np.array([180, 255, 255])"
   ]
  },
  {
   "cell_type": "code",
   "execution_count": null,
   "id": "25c0add6",
   "metadata": {},
   "outputs": [
    {
     "name": "stderr",
     "output_type": "stream",
     "text": [
      "[ WARN:0] global ../modules/videoio/src/cap_gstreamer.cpp (616) isPipelinePlaying OpenCV | GStreamer warning: GStreamer: pipeline have not been created\n"
     ]
    }
   ],
   "source": [
    "cap = cv2.VideoCapture(0) # 0 internal camera\n",
    "\n",
    "while(1):\n",
    "    _,frame = cap.read()\n",
    "    hsv = cv2.cvtColor(frame, cv2.COLOR_BGR2HSV)\n",
    "    mask = cv2.inRange(hsv, lower_red, upper_red)\n",
    "    result = cv2.bitwise_and(frame, frame, mask = mask)\n",
    "    \n",
    "    cv2.imshow('HSV', hsv)\n",
    "    cv2.imshow('frame', frame)\n",
    "    cv2.imshow('mask', mask)\n",
    "    cv2.imshow('result', result)\n",
    "    \n",
    "    k = cv2.waitKey(5) & 0xFF\n",
    "    \n",
    "    if k == 27: # if user pressed escape button on keyboard\n",
    "        break\n",
    "        \n",
    "cap.release()   \n",
    "cv2.waitKey(1)\n",
    "cv2.destroyAllWindows()\n",
    "cv2.waitKey(1)"
   ]
  },
  {
   "cell_type": "code",
   "execution_count": null,
   "id": "6f297225",
   "metadata": {},
   "outputs": [],
   "source": []
  }
 ],
 "metadata": {
  "kernelspec": {
   "display_name": "Python 3 (ipykernel)",
   "language": "python",
   "name": "python3"
  },
  "language_info": {
   "codemirror_mode": {
    "name": "ipython",
    "version": 3
   },
   "file_extension": ".py",
   "mimetype": "text/x-python",
   "name": "python",
   "nbconvert_exporter": "python",
   "pygments_lexer": "ipython3",
   "version": "3.9.12"
  }
 },
 "nbformat": 4,
 "nbformat_minor": 5
}
