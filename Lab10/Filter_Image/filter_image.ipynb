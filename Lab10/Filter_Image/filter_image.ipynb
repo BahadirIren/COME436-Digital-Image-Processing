{
 "cells": [
  {
   "cell_type": "code",
   "execution_count": null,
   "id": "f4bb32d1",
   "metadata": {},
   "outputs": [],
   "source": [
    "import numpy as np\n",
    "import matplotlib.pyplot as plt\n",
    "from skimage.io import imshow, imread\n",
    "from skimage.color import rgb2hsv, hsv2rgb \n",
    "import cv2"
   ]
  },
  {
   "cell_type": "code",
   "execution_count": null,
   "id": "c61c9638",
   "metadata": {},
   "outputs": [],
   "source": [
    "red_girl = imread('RGirl.png') \n",
    "plt.figure(num=None, figsize=(8, 6), dpi=80) \n",
    "imshow(red_girl)"
   ]
  },
  {
   "cell_type": "code",
   "execution_count": null,
   "id": "80f1c588",
   "metadata": {},
   "outputs": [],
   "source": [
    "red_filtered_girl = (red_girl[:,:,0] > 150) \n",
    "plt.figure(num=None, figsize=(8, 6), dpi=80) \n",
    "imshow(red_filtered_girl, cmap = 'gray')"
   ]
  },
  {
   "cell_type": "code",
   "execution_count": null,
   "id": "8ad4d04d",
   "metadata": {},
   "outputs": [],
   "source": [
    "red_girl_new = red_girl.copy()\n",
    "red_girl_new[:, :, 0] = red_girl_new[:, :, 0]*red_filtered_girl \n",
    "red_girl_new[:, :, 1] = red_girl_new[:, :, 1]*red_filtered_girl \n",
    "red_girl_new[:, :, 2] = red_girl_new[:, :, 2]*red_filtered_girl \n",
    "plt.figure(num=None, figsize=(8, 6), dpi=80) \n",
    "imshow(red_girl_new)"
   ]
  },
  {
   "cell_type": "code",
   "execution_count": null,
   "id": "c510c23c",
   "metadata": {},
   "outputs": [],
   "source": [
    "def rgb_splitter(image):\n",
    "    rgb_list = ['Reds','Greens','Blues']\n",
    "    fig, ax = plt.subplots(1, 3, figsize=(15,5), sharey = True) \n",
    "    for i in range(3):\n",
    "        ax[i].imshow(image[:,:,i], cmap = rgb_list[i])\n",
    "        ax[i].set_title(rgb_list[i], fontsize = 15) \n",
    "    \n",
    "rgb_splitter(red_girl)"
   ]
  },
  {
   "cell_type": "code",
   "execution_count": null,
   "id": "04cc4592",
   "metadata": {},
   "outputs": [],
   "source": [
    "red_filtered = (red_girl[:,:,0] > 150) & (red_girl[:,:,1] < 100) & (red_girl[:,:,2] < 110)\n",
    "plt.figure(num=None, figsize=(8, 6), dpi=80)\n",
    "red_girl_new = red_girl.copy()\n",
    "red_girl_new[:, :, 0] = red_girl_new[:, :, 0] * red_filtered\n",
    "red_girl_new[:, :, 1] = red_girl_new[:, :, 1] * red_filtered \n",
    "red_girl_new[:, :, 2] = red_girl_new[:, :, 2] * red_filtered \n",
    "imshow(red_girl_new)"
   ]
  },
  {
   "cell_type": "code",
   "execution_count": null,
   "id": "62259148",
   "metadata": {},
   "outputs": [],
   "source": [
    "def display_as_hsv(image): \n",
    "    img = cv2.imread(image)\n",
    "    img_hsv = cv2.cvtColor(img, cv2.COLOR_BGR2HSV)\n",
    "    \n",
    "    hsv_list = ['Hue','Saturation','Value']\n",
    "    fig, ax = plt.subplots(1, 3, figsize=(15,7), sharey = True)\n",
    "    \n",
    "    ax[0].imshow(img_hsv[:,:,0], cmap = 'hsv') \n",
    "    ax[0].set_title(hsv_list[0], fontsize = 20) \n",
    "    ax[0].axis('off')\n",
    "    \n",
    "    ax[1].imshow(img_hsv[:,:,1], cmap = 'Greys') \n",
    "    ax[1].set_title(hsv_list[1], fontsize = 20) \n",
    "    ax[1].axis('off')\n",
    "    ax[2].imshow(img_hsv[:,:,2], cmap = 'gray') \n",
    "    ax[2].set_title(hsv_list[2], fontsize = 20) \n",
    "    ax[2].axis('off')\n",
    "    \n",
    "    fig.tight_layout() \n",
    "\n",
    "display_as_hsv('RGirl.png')"
   ]
  },
  {
   "cell_type": "code",
   "execution_count": null,
   "id": "7ff009a0",
   "metadata": {},
   "outputs": [],
   "source": [
    "img = cv2.imread('RGirl.png')\n",
    "red_girl_hsv = cv2.cvtColor(img, cv2.COLOR_BGR2HSV) \n",
    "plt.figure(num=None, figsize=(8, 6), dpi=80) \n",
    "plt.imshow(red_girl_hsv[:,:,0], cmap='hsv') \n",
    "plt.colorbar()"
   ]
  },
  {
   "cell_type": "code",
   "execution_count": null,
   "id": "b5cd73c5",
   "metadata": {},
   "outputs": [],
   "source": [
    "lower_mask = red_girl_hsv [:,:,0] > 160 \n",
    "upper_mask = red_girl_hsv [:,:,0] < 255 \n",
    "mask = upper_mask*lower_mask\n",
    "red = red_girl[:,:,0]*mask\n",
    "green = red_girl[:,:,1]*mask\n",
    "blue = red_girl[:,:,2]*mask\n",
    "red_girl_masked = np.dstack((red,green,blue)) \n",
    "plt.figure(num=None, figsize=(8, 6), dpi=80) \n",
    "imshow(red_girl_masked)"
   ]
  },
  {
   "cell_type": "code",
   "execution_count": null,
   "id": "0a632012",
   "metadata": {},
   "outputs": [],
   "source": [
    "lower_mask = red_girl_hsv [:,:,0] > 160 \n",
    "upper_mask = red_girl_hsv [:,:,0] < 255 \n",
    "saturation = red_girl_hsv [:,:,1] > 150 \n",
    "mask = upper_mask*lower_mask*saturation \n",
    "red = red_girl[:,:,0]*mask\n",
    "green = red_girl[:,:,1]*mask\n",
    "blue = red_girl[:,:,2]*mask\n",
    "red_girl_masked = np.dstack((red,green,blue)) \n",
    "plt.figure(num=None, figsize=(8, 6), dpi=80) \n",
    "imshow(red_girl_masked)"
   ]
  },
  {
   "cell_type": "code",
   "execution_count": null,
   "id": "8a7bbb74",
   "metadata": {},
   "outputs": [],
   "source": []
  }
 ],
 "metadata": {
  "kernelspec": {
   "display_name": "Python 3 (ipykernel)",
   "language": "python",
   "name": "python3"
  },
  "language_info": {
   "codemirror_mode": {
    "name": "ipython",
    "version": 3
   },
   "file_extension": ".py",
   "mimetype": "text/x-python",
   "name": "python",
   "nbconvert_exporter": "python",
   "pygments_lexer": "ipython3",
   "version": "3.9.12"
  }
 },
 "nbformat": 4,
 "nbformat_minor": 5
}
