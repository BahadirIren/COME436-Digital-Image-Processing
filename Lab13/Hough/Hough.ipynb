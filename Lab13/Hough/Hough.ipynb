{
 "cells": [
  {
   "cell_type": "code",
   "execution_count": null,
   "metadata": {},
   "outputs": [],
   "source": [
    "import numpy as np\n",
    "import cv2\n",
    "import matplotlib.pyplot as plt\n",
    "import math"
   ]
  },
  {
   "cell_type": "code",
   "execution_count": null,
   "metadata": {},
   "outputs": [],
   "source": [
    "img = cv2.imread(\"images/rectangle2.png\")\n",
    "plt.imshow(img, cmap= \"gray\")"
   ]
  },
  {
   "cell_type": "code",
   "execution_count": null,
   "metadata": {},
   "outputs": [],
   "source": [
    "gray = cv2.cvtColor(img, cv2.COLOR_BGR2GRAY)\n",
    "dst = cv2.Canny(gray, 50, 200, None, 3)\n",
    "plt.imshow(dst, cmap= \"gray\")"
   ]
  },
  {
   "cell_type": "code",
   "execution_count": null,
   "metadata": {},
   "outputs": [],
   "source": [
    "dstp = np.copy(img)\n",
    "lines = cv2.HoughLines(dst, 1, np.pi/ 180, 90, None, 0, 0)\n",
    "\n",
    "if lines is not None:\n",
    "    for i in range(0, len(lines)):\n",
    "        rho = lines[i][0][0]\n",
    "        theta = lines[i][0][1]\n",
    "        a = math.cos(theta)\n",
    "        b = math.sin(theta)\n",
    "        x0 = a*rho\n",
    "        y0 = b* rho\n",
    "        point1 = (int(x0+500*(-b)), int(y0+500*(a)))\n",
    "        point2 = (int(x0-500*(-b)), int(y0-500*(a)))\n",
    "        cv2.line(dstp, point1, point2, (0,0,255), 3, cv2.LINE_AA) # antialiasing\n",
    "\n",
    "\n",
    "cv2.imshow(\"source\", dst)\n",
    "cv2.imshow(\"detected\", dstp)\n",
    "cv2.waitKey(0)\n",
    "cv2.destroyAllWindows()\n"
   ]
  },
  {
   "cell_type": "code",
   "execution_count": null,
   "metadata": {},
   "outputs": [],
   "source": [
    "lines.shape"
   ]
  },
  {
   "cell_type": "code",
   "execution_count": null,
   "metadata": {},
   "outputs": [],
   "source": [
    "linesP = cv2.HoughLinesP(dst, 1, np.pi / 180, 50, None, 50, 10)\n",
    "if linesP is not None:\n",
    "    for i in range(0, len(linesP)):\n",
    "        l = linesP[i][0]\n",
    "        cv2.line(dstp, (l[0], l[1]), (l[2], l[3]), (0,0,255), 3, cv2.LINE_AA)\n",
    "\n",
    "cv2.imshow(\"Source\", gray)\n",
    "cv2.imshow(\"Detected Lines (in red) - Probabilistic Line Transform\", dstp)\n",
    "cv2.waitKey(0) \n",
    "cv2.destroyAllWindows()"
   ]
  },
  {
   "cell_type": "code",
   "execution_count": null,
   "metadata": {},
   "outputs": [],
   "source": [
    "src = cv2.imread('images/Hough_circle.png')\n",
    "src_original= np.copy(src)\n",
    "gray = cv2.cvtColor(src,cv2.COLOR_BGR2GRAY) \n",
    "rows = gray.shape[0]\n",
    "\n",
    "# outer circle\n",
    "circles = cv2.HoughCircles(gray, cv2.HOUGH_GRADIENT, 1, rows / 8, param1=100, param2=30,\n",
    "                            minRadius=28, maxRadius=100)\n",
    "\n",
    "# inner circle\n",
    "circles2 = cv2.HoughCircles(gray, cv2.HOUGH_GRADIENT, 1, rows / 8, param1=100, param2=30,\n",
    "                            minRadius=1, maxRadius=60)\n",
    "\n",
    "if circles is not None:\n",
    "    circles = np.uint16(np.around(circles)) \n",
    "    for i in circles[0, :]:\n",
    "        center = (i[0], i[1])\n",
    "        # circle center\n",
    "        cv2.circle(src, center, 1, (0, 0, 0), 15)\n",
    "        # circle outline\n",
    "        radius = i[2]\n",
    "        cv2.circle(src, center, radius, (0, 0, 0), 15)\n",
    "\n",
    "if circles2 is not None:\n",
    "    circles2 = np.uint16(np.around(circles2)) \n",
    "    for i in circles2[0, :]:\n",
    "        center = (i[0], i[1])\n",
    "        # circle center\n",
    "        cv2.circle(src, center, 1, (0, 0, 0), 15)\n",
    "        # circle outline\n",
    "        radius = i[2]\n",
    "        cv2.circle(src, center, radius, (0, 0, 0), 15)\n",
    "\n",
    "cv2.imshow(\"original\", src_original) \n",
    "cv2.imshow(\"detected circles\", src) \n",
    "cv2.waitKey(0) \n",
    "cv2.destroyAllWindows()"
   ]
  }
 ],
 "metadata": {
  "interpreter": {
   "hash": "5afd753521192693e5e546d69d7980f9f31688b70dcfe3b6261fbc7f15964264"
  },
  "kernelspec": {
   "display_name": "Python 3 (ipykernel)",
   "language": "python",
   "name": "python3"
  },
  "language_info": {
   "codemirror_mode": {
    "name": "ipython",
    "version": 3
   },
   "file_extension": ".py",
   "mimetype": "text/x-python",
   "name": "python",
   "nbconvert_exporter": "python",
   "pygments_lexer": "ipython3",
   "version": "3.9.12"
  }
 },
 "nbformat": 4,
 "nbformat_minor": 2
}
