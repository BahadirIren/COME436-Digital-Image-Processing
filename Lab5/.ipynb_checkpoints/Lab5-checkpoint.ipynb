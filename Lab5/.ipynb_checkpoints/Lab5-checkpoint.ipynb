{
 "cells": [
  {
   "cell_type": "code",
   "execution_count": 1,
   "id": "3dcd71f5",
   "metadata": {},
   "outputs": [],
   "source": [
    "import cv2 as cv\n",
    "import numpy as np"
   ]
  },
  {
   "cell_type": "code",
   "execution_count": 3,
   "id": "27a0136d",
   "metadata": {},
   "outputs": [
    {
     "data": {
      "text/plain": [
       "-1"
      ]
     },
     "execution_count": 3,
     "metadata": {},
     "output_type": "execute_result"
    }
   ],
   "source": [
    "src = cv.imread(\"pug.jpg\")\n",
    "src_gray = cv.cvtColor(src, cv.COLOR_BGR2GRAY) # convert image to gray\n",
    "# src_gray = cv.imread(\"pug.jpg\", 0) it is also a gray image\n",
    "\n",
    "# histogram equalization\n",
    "equ = cv.equalizeHist(src_gray)\n",
    "\n",
    "cv.imshow(\"gray\", src_gray)\n",
    "cv.imshow(\"equ gray\", equ)\n",
    "cv.waitKey(0)\n",
    "cv.destroyAllWindows()\n",
    "cv.waitKey(1)"
   ]
  },
  {
   "cell_type": "code",
   "execution_count": 56,
   "id": "e84f95cb",
   "metadata": {},
   "outputs": [
    {
     "data": {
      "text/plain": [
       "-1"
      ]
     },
     "execution_count": 56,
     "metadata": {},
     "output_type": "execute_result"
    }
   ],
   "source": [
    "# Sharpening (Highpass) filter\n",
    "# kernel = np.array([\n",
    "#     [0, -1, 0],\n",
    "#     [-1, 5, -1],\n",
    "#     [0, -1, 0]\n",
    "# ])\n",
    "\n",
    "# \n",
    "# kernel = np.array([\n",
    "#     [-1, -1, -1],\n",
    "#     [-1, 8, -1],\n",
    "#     [-1, -1, -1]\n",
    "# ])\n",
    "\n",
    "# kernel = np.array([\n",
    "#     [1, 1, 1],\n",
    "#     [1, 1, 1],\n",
    "#     [1, 1, 1]\n",
    "# ]) / 9\n",
    "\n",
    "\n",
    "# kernel = np.array([\n",
    "#     [-2, -1, 0],\n",
    "#     [-1, 1, 1],\n",
    "#     [0, 1, 2]\n",
    "# ]) \n",
    "\n",
    "# kernel = np.array([\n",
    "#     [-1, 0, 1],\n",
    "#     [-2, 0, 2],\n",
    "#     [-1, 0, 1]\n",
    "# ])\n",
    "\n",
    "\n",
    "# Gaussian kernel\n",
    "# kernel = np.array([\n",
    "#     [1, 2, 1],\n",
    "#     [2, 4, 2],\n",
    "#     [1, 2, 1],\n",
    "# ]) / 16\n",
    "\n",
    "\n",
    "kernel = np.array([\n",
    "    [-1, 0, 1, -1, 0, 1, -1, 0, 1, 0],\n",
    "    [-2, 0, 2, -2, 0, 2, -2, 0, 2, 1],\n",
    "    [ 0, 0, 1, -1, 1, 1,  0, 0, 1, 1],\n",
    "    [-1, 0, 1, -1, 0, 1, -1, 0, 1, 0],\n",
    "    [-2, 0, 2, -2, 0, 2, -2, 0, 2, 1],\n",
    "    [ 0, 0, 1, -1, 0, 1, -1, 0, 1, 1],\n",
    "    [-1, 0, 1, -1, 1, 1, -1, 0, 1, 0],\n",
    "    [-2, 0, 2, -2, 0, 1,  3, 2, 1, 1],\n",
    "    [-1, 0, 1, -1, 0, 1, -1, 0, 1, 1],\n",
    "    [ 0, 0, 1, -1, 1, 1, -1, 0, 1, 1]\n",
    "]) / 10\n",
    "\n",
    "filtered_img = cv.filter2D(src, -1, kernel)\n",
    "\n",
    "# filtered_img = cv.medianBlur(src, 5)\n",
    "\n",
    "cv.imshow(\"original image\", src)\n",
    "cv.imshow(\"filtered image\", filtered_img)\n",
    "cv.waitKey(0)\n",
    "cv.destroyAllWindows()\n",
    "cv.waitKey(1)"
   ]
  },
  {
   "cell_type": "code",
   "execution_count": null,
   "id": "5391739b",
   "metadata": {},
   "outputs": [],
   "source": []
  }
 ],
 "metadata": {
  "kernelspec": {
   "display_name": "Python 3 (ipykernel)",
   "language": "python",
   "name": "python3"
  },
  "language_info": {
   "codemirror_mode": {
    "name": "ipython",
    "version": 3
   },
   "file_extension": ".py",
   "mimetype": "text/x-python",
   "name": "python",
   "nbconvert_exporter": "python",
   "pygments_lexer": "ipython3",
   "version": "3.9.11"
  }
 },
 "nbformat": 4,
 "nbformat_minor": 5
}
